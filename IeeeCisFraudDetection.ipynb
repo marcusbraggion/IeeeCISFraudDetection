{
 "cells": [
  {
   "cell_type": "markdown",
   "id": "b0f3c0b8",
   "metadata": {},
   "source": [
    "# 0.0 IMPORTS "
   ]
  },
  {
   "cell_type": "code",
   "execution_count": 173,
   "id": "fb13f102",
   "metadata": {
    "ExecuteTime": {
     "end_time": "2022-01-27T16:39:12.342320Z",
     "start_time": "2022-01-27T16:39:12.306318Z"
    }
   },
   "outputs": [],
   "source": [
    "import pandas as pd\n",
    "import numpy as np\n",
    "import seaborn as sns\n",
    "import matplotlib.pyplot as plt\n",
    "import random\n",
    "import warnings\n",
    "import inflection\n",
    "import pickle\n",
    "import xgboost as xgb\n",
    "\n",
    "from tabulate                import tabulate\n",
    "from collections             import Counter\n",
    "\n",
    "from IPython.core.display    import HTML\n",
    "from IPython.core.display    import Image\n",
    "\n",
    "from scipy.stats             import chi2_contingency\n",
    "\n",
    "from imblearn.over_sampling  import SMOTE\n",
    "from imblearn.over_sampling  import RandomOverSampler\n",
    "\n",
    "from boruta                  import BorutaPy\n",
    "\n",
    "from lightgbm                import LGBMClassifier\n",
    "\n",
    "from sklearn.neighbors       import KNeighborsClassifier\n",
    "from sklearn.impute          import SimpleImputer\n",
    "from sklearn.tree            import DecisionTreeClassifier, DecisionTreeRegressor, plot_tree\n",
    "from sklearn.model_selection import train_test_split\n",
    "from sklearn.model_selection import cross_val_score, cross_validate\n",
    "from sklearn.model_selection import RandomizedSearchCV\n",
    "from sklearn.linear_model    import LogisticRegression\n",
    "from sklearn.ensemble        import RandomForestClassifier\n",
    "from sklearn.preprocessing   import RobustScaler, MinMaxScaler, LabelEncoder\n",
    "\n",
    "from sklearn.metrics         import precision_score\n",
    "from sklearn.metrics         import recall_score\n",
    "from sklearn.metrics         import accuracy_score\n",
    "from sklearn.metrics         import f1_score\n",
    "from sklearn.metrics         import confusion_matrix, ConfusionMatrixDisplay\n",
    "from sklearn.metrics         import roc_auc_score, roc_curve\n",
    "from scikitplot              import metrics      as mt\n",
    "from sklearn.metrics         import accuracy_score, classification_report,cohen_kappa_score,recall_score,f1_score,roc_auc_score, plot_precision_recall_curve, precision_score,roc_curve\n",
    "\n",
    "from imblearn.over_sampling import RandomOverSampler\n",
    "from imblearn               import over_sampling, under_sampling\n",
    "from imblearn.over_sampling import SMOTE\n",
    "\n",
    "warnings.filterwarnings('ignore')"
   ]
  },
  {
   "cell_type": "markdown",
   "id": "4e3b4f16",
   "metadata": {},
   "source": [
    "## 0.1 Helper Functions"
   ]
  },
  {
   "cell_type": "code",
   "execution_count": null,
   "id": "7f4e3eaf",
   "metadata": {
    "ExecuteTime": {
     "end_time": "2022-01-27T15:31:24.428124Z",
     "start_time": "2022-01-27T15:31:24.369951Z"
    }
   },
   "outputs": [],
   "source": [
    "def cross_validation( model_name, model, cv=5):\n",
    "    \n",
    "    # model\n",
    "    scoring = ['accuracy', 'precision', 'f1', 'recall', 'roc_auc']\n",
    "    cv=5\n",
    "    m_result_cv = cross_validate(model, X_train, y_train, cv=5, scoring=scoring)\n",
    "    \n",
    "    # perfomance\n",
    "    accuracy =  np.round ( np.mean( m_result_cv['test_accuracy']), 4).astype(str)  + ' +- ' + ( np.round (np.std( m_result_cv['test_accuracy']), 4).astype(str)) \n",
    "    precision = np.round ( np.mean( m_result_cv['test_precision']), 4).astype(str)  + ' +- ' + ( np.round (np.std( m_result_cv['test_precision']), 4).astype(str)) \n",
    "    f1 = np.round ( np.mean( m_result_cv['test_f1']), 4).astype(str)  + ' +- ' + ( np.round (np.std( m_result_cv['test_f1']), 4).astype(str)) \n",
    "    recall = np.round ( np.mean( m_result_cv['test_recall']), 4).astype(str)  + ' +- ' + ( np.round (np.std( m_result_cv['test_recall']), 4).astype(str)) \n",
    "    aucroc = np.round ( np.mean( m_result_cv['test_roc_auc']), 4).astype(str)  + ' +- ' + ( np.round (np.std( m_result_cv['test_roc_auc']), 4).astype(str)) \n",
    "    \n",
    "    # result\n",
    "    return pd.DataFrame({'Model Name': model_name,\n",
    "                         'Accuracy': accuracy,\n",
    "                         'Precision': precision,\n",
    "                         'F1-Measure': f1,\n",
    "                         'Recall': recall,\n",
    "                         'AUC-ROC': aucroc}, index=[0])\n",
    "\n",
    "def fraud_loss_saved ( df , model_name, model, yhat_model ):\n",
    "    df['predictions'] = yhat_model\n",
    "    total_fraud_amt = df[df['is_fraud'] == 1]['transaction_amt'].sum()\n",
    "    total_fraud_amt_detected = df.loc[(df['predictions'] ==1 ) & ( df['is_fraud']== 1) ]['transaction_amt'].sum()\n",
    "    detection_rate  = 100 * ( df[df['predictions'] ==1 ]['is_fraud'].sum()) / df['is_fraud'].sum()\n",
    "    auc_score = roc_auc_score( df['is_fraud'], df['predictions'] )\n",
    "    f1 = f1_score( df['is_fraud'], df['predictions'] )\n",
    "    \n",
    "    return pd.DataFrame({'Model Name': model_name,\n",
    "                         'Total Fraud Amount': total_fraud_amt,\n",
    "                         'Total Fraud Amount Detected': total_fraud_amt_detected,\n",
    "                         'Fraud Loss Saved (%)': str( round( 100 * total_fraud_amt_detected / total_fraud_amt , 2 ) ),\n",
    "                         'Detection Rate (%)': detection_rate,\n",
    "                         'AUROC Score': auc_score,\n",
    "                         'F1 Score': f1}, index=[0])\n",
    "\n",
    "def ml_error( model_name, y_test, yhat ):\n",
    "    accuracy = accuracy_score( y_test, yhat )\n",
    "    precision = precision_score( y_test, yhat)\n",
    "    f1_scr = f1_score(y_test, yhat)\n",
    "    recall = recall_score(y_test, yhat)\n",
    "    \n",
    "    return pd.DataFrame( { 'Model Name':   model_name,\n",
    "                           'Accuracy':     accuracy,\n",
    "                           'Precision':    precision,\n",
    "                           'F1 Score':     f1_scr,\n",
    "                           'Recall Score': recall}, index=[0])\n",
    "\n",
    "\n",
    "def cramers_V(var1,var2) :\n",
    "      crosstab =np.array(pd.crosstab(var1,var2, rownames=None, colnames=None)) # Cross table building\n",
    "      stat = chi2_contingency(crosstab)[0] # Keeping of the test statistic of the Chi2 test\n",
    "      obs = np.sum(crosstab) # Number of observations\n",
    "      mini = min(crosstab.shape)-1 # Take the minimum value between the columns and the rows of the cross table\n",
    "      return (stat/(obs*mini))\n",
    "\n",
    "def jupyter_settings(): \n",
    "    %matplotlib inline \n",
    "    %pylab inline\n",
    "    plt.style.use( 'bmh' )\n",
    "    plt.rcParams['figure.figsize'] = [24, 20]\n",
    "    plt.rcParams['font.size'] = 24\n",
    "    display( HTML( '<style>.container { width:100% !important; }</style>') ) \n",
    "    pd.options.display.max_columns = None\n",
    "    pd.options.display.max_rows = 1000\n",
    "    pd.set_option( 'display.expand_frame_repr', False ) \n",
    "    sns.set()"
   ]
  },
  {
   "cell_type": "code",
   "execution_count": null,
   "id": "a296f48c",
   "metadata": {
    "ExecuteTime": {
     "end_time": "2022-01-27T14:38:48.146353Z",
     "start_time": "2022-01-27T14:38:47.924097Z"
    }
   },
   "outputs": [],
   "source": [
    "jupyter_settings()"
   ]
  },
  {
   "cell_type": "markdown",
   "id": "3c642254",
   "metadata": {},
   "source": [
    "## 0.2 Loading Data"
   ]
  },
  {
   "cell_type": "code",
   "execution_count": null,
   "id": "3b258056",
   "metadata": {
    "ExecuteTime": {
     "end_time": "2022-01-27T14:39:48.850849Z",
     "start_time": "2022-01-27T14:39:43.376566Z"
    }
   },
   "outputs": [],
   "source": [
    "# loading train dataset\n",
    "df_identity_raw = pd.read_csv('data/train_identity.csv', nrows = 100000, low_memory=False)\n",
    "df_transaction_raw = pd.read_csv('data/train_transaction.csv', nrows = 100000, low_memory=False)\n",
    "\n",
    "#merge\n",
    "df_raw = pd.merge(df_identity_raw, df_transaction_raw, on='TransactionID', how='inner')"
   ]
  },
  {
   "cell_type": "markdown",
   "id": "97f739c9",
   "metadata": {
    "heading_collapsed": true
   },
   "source": [
    "# 1.0 DESCRIÇÃO DOS DADOS"
   ]
  },
  {
   "cell_type": "code",
   "execution_count": null,
   "id": "58a71ce6",
   "metadata": {
    "ExecuteTime": {
     "end_time": "2022-01-27T14:39:48.978476Z",
     "start_time": "2022-01-27T14:39:48.850849Z"
    },
    "hidden": true
   },
   "outputs": [],
   "source": [
    "df1 = df_raw.copy()"
   ]
  },
  {
   "cell_type": "markdown",
   "id": "08391be1",
   "metadata": {
    "hidden": true
   },
   "source": [
    "## 1.1 Rename Columns"
   ]
  },
  {
   "cell_type": "code",
   "execution_count": null,
   "id": "1fbbfc03",
   "metadata": {
    "ExecuteTime": {
     "end_time": "2022-01-27T14:39:48.994477Z",
     "start_time": "2022-01-27T14:39:48.979477Z"
    },
    "hidden": true
   },
   "outputs": [],
   "source": [
    "## 1. Rename Columns\n",
    "cols_old = df1.columns.values\n",
    "\n",
    "snakecase = lambda x: inflection.underscore(x)\n",
    "\n",
    "cols_new = list(map (snakecase, cols_old))\n",
    "\n",
    "#rename\n",
    "df1.columns = cols_new "
   ]
  },
  {
   "cell_type": "markdown",
   "id": "73daf4e5",
   "metadata": {
    "hidden": true,
    "hide_input": false
   },
   "source": [
    "## 1.2 Data Dimensions"
   ]
  },
  {
   "cell_type": "code",
   "execution_count": null,
   "id": "8a00e93d",
   "metadata": {
    "ExecuteTime": {
     "end_time": "2022-01-27T14:39:49.106486Z",
     "start_time": "2022-01-27T14:39:48.996480Z"
    },
    "hidden": true
   },
   "outputs": [],
   "source": [
    "print('Number of Rows: {}'.format(df1.shape[0]))\n",
    "print('Number of Columns: {}'.format(df1.shape[1]))"
   ]
  },
  {
   "cell_type": "markdown",
   "id": "0ae5075b",
   "metadata": {
    "hidden": true,
    "hide_input": true
   },
   "source": [
    "## 1.3 Data Types"
   ]
  },
  {
   "cell_type": "code",
   "execution_count": null,
   "id": "9c0023d7",
   "metadata": {
    "ExecuteTime": {
     "end_time": "2022-01-27T14:39:49.202494Z",
     "start_time": "2022-01-27T14:39:49.108488Z"
    },
    "hidden": true,
    "scrolled": false
   },
   "outputs": [],
   "source": [
    "df1.dtypes"
   ]
  },
  {
   "cell_type": "markdown",
   "id": "de3adccb",
   "metadata": {
    "hidden": true,
    "hide_input": false
   },
   "source": [
    "## 1.4 Check NA"
   ]
  },
  {
   "cell_type": "code",
   "execution_count": null,
   "id": "812f110a",
   "metadata": {
    "ExecuteTime": {
     "end_time": "2022-01-27T14:39:49.409654Z",
     "start_time": "2022-01-27T14:39:49.203495Z"
    },
    "hidden": true,
    "scrolled": false
   },
   "outputs": [],
   "source": [
    "df1.isna().sum()"
   ]
  },
  {
   "cell_type": "markdown",
   "id": "c470a0bb",
   "metadata": {
    "hidden": true
   },
   "source": [
    "## 1.5 Drop out NA Columns "
   ]
  },
  {
   "cell_type": "code",
   "execution_count": null,
   "id": "e7aca5ae",
   "metadata": {
    "ExecuteTime": {
     "end_time": "2022-01-27T14:39:49.566666Z",
     "start_time": "2022-01-27T14:39:49.411655Z"
    },
    "hidden": true
   },
   "outputs": [],
   "source": [
    "# drop columns with > 90% missing values ratio \n",
    "df1 = df1.dropna(axis=1, thresh=int(0.9*len(df1)))"
   ]
  },
  {
   "cell_type": "markdown",
   "id": "7d4c9546",
   "metadata": {
    "hidden": true
   },
   "source": [
    "## 1.5.2 Fill Out NA "
   ]
  },
  {
   "cell_type": "code",
   "execution_count": null,
   "id": "ac5a5e31",
   "metadata": {
    "ExecuteTime": {
     "end_time": "2022-01-27T14:40:41.496362Z",
     "start_time": "2022-01-27T14:40:41.206121Z"
    },
    "hidden": true
   },
   "outputs": [],
   "source": [
    "cols_cat = df1.select_dtypes(include='object').columns.values\n",
    "cols_num = df1.select_dtypes(include=['int64', 'float64']).columns.values\n",
    "\n",
    "# fill with mean for numerical attributes\n",
    "df1[cols_num] = df1[cols_num].fillna(df1[cols_num].mean())\n",
    "\n",
    "# fill with mode for categorical attributes\n",
    "df1[cols_cat] = df1[cols_cat].fillna(df1[cols_cat].mode().iloc[0])"
   ]
  },
  {
   "cell_type": "markdown",
   "id": "a282a0ff",
   "metadata": {
    "hidden": true
   },
   "source": [
    "## 1.6 Change Types"
   ]
  },
  {
   "cell_type": "code",
   "execution_count": null,
   "id": "fbbf7518",
   "metadata": {
    "ExecuteTime": {
     "end_time": "2022-01-27T14:40:51.318988Z",
     "start_time": "2022-01-27T14:40:51.259984Z"
    },
    "hidden": true
   },
   "outputs": [],
   "source": [
    "# Listing dates between '2017-10-01' and '2019-01-01 \n",
    "dates_range = pd.date_range(start='2017-10-01', end='2019-01-01')\n",
    "START_DATE = '2017-12-01'\n",
    "startdate = datetime.datetime.strptime(START_DATE, \"%Y-%m-%d\")\n",
    "df1['transaction_dt'] = df1['transaction_dt'].apply(lambda x: (startdate + datetime.timedelta(seconds=x)))"
   ]
  },
  {
   "cell_type": "markdown",
   "id": "84398d7a",
   "metadata": {
    "hidden": true
   },
   "source": [
    "## 1.7 Descriptive Statistical"
   ]
  },
  {
   "cell_type": "code",
   "execution_count": null,
   "id": "dfce0640",
   "metadata": {
    "ExecuteTime": {
     "end_time": "2022-01-27T14:40:52.439950Z",
     "start_time": "2022-01-27T14:40:52.401804Z"
    },
    "hidden": true
   },
   "outputs": [],
   "source": [
    "num_attributes = df1.select_dtypes( include=['int64', 'float64'] )\n",
    "cat_attributes = df1.select_dtypes( exclude=['int64', 'float64', 'datetime64[ns]'] )"
   ]
  },
  {
   "cell_type": "markdown",
   "id": "5eb463a9",
   "metadata": {
    "hidden": true,
    "hide_input": false
   },
   "source": [
    "### 1.7.1 Numerical Attributes"
   ]
  },
  {
   "cell_type": "code",
   "execution_count": null,
   "id": "5a8a909f",
   "metadata": {
    "ExecuteTime": {
     "end_time": "2022-01-27T14:40:57.341457Z",
     "start_time": "2022-01-27T14:40:55.129396Z"
    },
    "hidden": true
   },
   "outputs": [],
   "source": [
    "# Central Tendency - mean, meadina\n",
    "ct1 = pd.DataFrame( num_attributes.apply( np.mean ) ).T\n",
    "ct2 = pd.DataFrame( num_attributes.apply( np.median ) ).T\n",
    "# dispersion - std, min, max, range, skew, kurtosis\n",
    "d1 = pd.DataFrame( num_attributes.apply( np.std ) ).T\n",
    "d2 = pd.DataFrame( num_attributes.apply( min ) ).T\n",
    "d3 = pd.DataFrame( num_attributes.apply( max ) ).T\n",
    "d4 = pd.DataFrame( num_attributes.apply( lambda x: x.max() - x.min() ) ).T\n",
    "d5 = pd.DataFrame( num_attributes.apply( lambda x: x.skew() ) ).T\n",
    "d6 = pd.DataFrame( num_attributes.apply( lambda x: x.kurtosis() ) ).T\n",
    "\n",
    "# concatenar\n",
    "m = pd.concat( [d2, d3, d4, ct1, ct2, d1, d5, d6] ).T.reset_index()\n",
    "m.columns = ['attributes', 'min', 'max', 'range', 'mean', 'median', 'std', 'skew', 'kurtosis']\n",
    "m"
   ]
  },
  {
   "cell_type": "markdown",
   "id": "e25ddd63",
   "metadata": {
    "hidden": true,
    "hide_input": true
   },
   "source": [
    "### 1.7.2 Categorical Attributes"
   ]
  },
  {
   "cell_type": "code",
   "execution_count": null,
   "id": "b2b88660",
   "metadata": {
    "ExecuteTime": {
     "end_time": "2022-01-27T14:41:17.625917Z",
     "start_time": "2022-01-27T14:41:17.553562Z"
    },
    "hidden": true,
    "scrolled": true
   },
   "outputs": [],
   "source": [
    "cat_attributes.apply( lambda x: x.unique().shape[0] )"
   ]
  },
  {
   "cell_type": "markdown",
   "id": "cb7783c8",
   "metadata": {
    "hidden": true,
    "hide_input": true
   },
   "source": [
    "## 2.0 FEATURE ENGINEERING"
   ]
  },
  {
   "cell_type": "code",
   "execution_count": null,
   "id": "5fd35d54",
   "metadata": {
    "ExecuteTime": {
     "end_time": "2022-01-27T14:41:18.720043Z",
     "start_time": "2022-01-27T14:41:18.702042Z"
    },
    "hidden": true
   },
   "outputs": [],
   "source": [
    "df2 = df1.copy()"
   ]
  },
  {
   "cell_type": "markdown",
   "id": "23194cbc",
   "metadata": {
    "hidden": true
   },
   "source": [
    "## Mapa Mental de Hipoteses"
   ]
  },
  {
   "cell_type": "code",
   "execution_count": null,
   "id": "c834bb35",
   "metadata": {
    "ExecuteTime": {
     "end_time": "2022-01-27T14:41:19.622045Z",
     "start_time": "2022-01-27T14:41:19.468504Z"
    },
    "hidden": true
   },
   "outputs": [],
   "source": [
    "Image('imgs/Transaes_Fraudulentas.png')"
   ]
  },
  {
   "cell_type": "markdown",
   "id": "dc72decd",
   "metadata": {
    "hidden": true
   },
   "source": [
    "## 2.2 Lista de Hipoteses"
   ]
  },
  {
   "cell_type": "markdown",
   "id": "e19ef1d1",
   "metadata": {
    "hidden": true
   },
   "source": [
    "**H1.** Deveriam ocorrer mais fraudes em transações de produtos do tipo C\n",
    "\n",
    "**H2.** Deveriam ocorrer mais fraudes em transações de produtos com valor abaixo de R$ 100.\n",
    "\n",
    "**H3.** Deveriam ocorrer mais fraudes em transações de produtos com valor a cima de R$ 500.\n",
    "\n",
    "**H4.** Deveriam ocorrer mais fraudes em transações realizadas no periodo noturno.\n",
    "\n",
    "**H5.** Deveriam ocorrer mais fraudes em transações realizadas durante a semana.\n",
    "\n",
    "**H6.** Deveriam ocorrer mais fraudes em transações realizadas durante o final de semana.\n",
    "\n",
    "**H7.** Deveriam ocorrer mais fraudes em transações realizadas em cartão com bandeira Visa.\n",
    "\n",
    "**H8.** Deveriam ocorrer mais fraudes em transações realizadas em cartão com bandeira Mastercard.\n",
    "\n",
    "**H9.** Deveriam ocorrer mais fraudes em transações realizadas em cartão de crédito."
   ]
  },
  {
   "cell_type": "markdown",
   "id": "fe51ce79",
   "metadata": {
    "hidden": true,
    "hide_input": true
   },
   "source": [
    "## 2.3 Feature Engineering"
   ]
  },
  {
   "cell_type": "code",
   "execution_count": null,
   "id": "6bf520cc",
   "metadata": {
    "ExecuteTime": {
     "end_time": "2022-01-27T14:41:44.896214Z",
     "start_time": "2022-01-27T14:41:44.872508Z"
    },
    "hidden": true
   },
   "outputs": [],
   "source": [
    "# day_of_week\n",
    "df2['day_of_week'] = df2['transaction_dt'].dt.dayofweek\n",
    "\n",
    "# hour\n",
    "df2['hour'] = df2['transaction_dt'].dt.hour\n",
    "\n",
    "# day\n",
    "df2['day'] = df2['transaction_dt'].dt.day\n",
    "\n",
    "#month\n",
    "df2['month'] = df2['transaction_dt'].dt.month"
   ]
  },
  {
   "cell_type": "markdown",
   "id": "111193e1",
   "metadata": {
    "heading_collapsed": true,
    "hide_input": true
   },
   "source": [
    "# 3.0 FILTRAGEM DAS VARIÁVEIS"
   ]
  },
  {
   "cell_type": "code",
   "execution_count": null,
   "id": "53d2ea7b",
   "metadata": {
    "ExecuteTime": {
     "end_time": "2022-01-27T14:41:45.995152Z",
     "start_time": "2022-01-27T14:41:45.964149Z"
    },
    "hidden": true
   },
   "outputs": [],
   "source": [
    "df3 = df2.copy()"
   ]
  },
  {
   "cell_type": "markdown",
   "id": "7f57b013",
   "metadata": {
    "hide_input": true
   },
   "source": [
    "# 4.0 ANALISE EXPLORATÓRIA DOS DADOS"
   ]
  },
  {
   "cell_type": "code",
   "execution_count": null,
   "id": "1cce1958",
   "metadata": {
    "ExecuteTime": {
     "end_time": "2022-01-27T14:41:49.233171Z",
     "start_time": "2022-01-27T14:41:49.213171Z"
    }
   },
   "outputs": [],
   "source": [
    "df4 = df3.copy()"
   ]
  },
  {
   "cell_type": "markdown",
   "id": "8f0299dc",
   "metadata": {
    "hide_input": true
   },
   "source": [
    "## 4.1 Analise Univariada"
   ]
  },
  {
   "cell_type": "markdown",
   "id": "46650a7d",
   "metadata": {
    "hide_input": true
   },
   "source": [
    "### 4.1.2 Response  Variable"
   ]
  },
  {
   "cell_type": "code",
   "execution_count": 431,
   "id": "0fbe7113",
   "metadata": {
    "ExecuteTime": {
     "end_time": "2022-01-27T19:46:31.243829Z",
     "start_time": "2022-01-27T19:46:31.222829Z"
    },
    "scrolled": false
   },
   "outputs": [
    {
     "data": {
      "text/plain": [
       "0    96.590745\n",
       "1     3.409255\n",
       "Name: is_fraud, dtype: float64"
      ]
     },
     "execution_count": 431,
     "metadata": {},
     "output_type": "execute_result"
    }
   ],
   "source": [
    "df4['is_fraud'].value_counts(normalize= True) * 100"
   ]
  },
  {
   "cell_type": "code",
   "execution_count": 432,
   "id": "4d04b55f",
   "metadata": {
    "ExecuteTime": {
     "end_time": "2022-01-27T19:46:31.931881Z",
     "start_time": "2022-01-27T19:46:31.397841Z"
    },
    "scrolled": true
   },
   "outputs": [
    {
     "data": {
      "text/plain": [
       "<AxesSubplot:xlabel='is_fraud', ylabel='Density'>"
      ]
     },
     "execution_count": 432,
     "metadata": {},
     "output_type": "execute_result"
    },
    {
     "data": {
      "image/png": "[encoded data removed]",
      "text/plain": [
       "<Figure size 1080x720 with 1 Axes>"
      ]
     },
     "metadata": {},
     "output_type": "display_data"
    }
   ],
   "source": [
    "sns.distplot(df4['is_fraud'])"
   ]
  },
  {
   "cell_type": "markdown",
   "id": "961ec710",
   "metadata": {
    "hide_input": false
   },
   "source": [
    "### 4.1.3 Numerical Variables"
   ]
  },
  {
   "cell_type": "code",
   "execution_count": 433,
   "id": "62e36643",
   "metadata": {
    "ExecuteTime": {
     "end_time": "2022-01-27T19:46:57.045273Z",
     "start_time": "2022-01-27T19:46:33.196977Z"
    }
   },
   "outputs": [
    {
     "data": {
      "image/png": "[encoded data removed]",
      "text/plain": [
       "<Figure size 1080x720 with 240 Axes>"
      ]
     },
     "metadata": {},
     "output_type": "display_data"
    }
   ],
   "source": [
    "num_attributes.hist();"
   ]
  },
  {
   "cell_type": "markdown",
   "id": "7306840f",
   "metadata": {
    "hide_input": false
   },
   "source": [
    "### 4.1.4 Categorical Variables"
   ]
  },
  {
   "cell_type": "code",
   "execution_count": 434,
   "id": "42b75a81",
   "metadata": {
    "ExecuteTime": {
     "end_time": "2022-01-27T19:46:57.108278Z",
     "start_time": "2022-01-27T19:46:57.047275Z"
    }
   },
   "outputs": [
    {
     "name": "stdout",
     "output_type": "stream",
     "text": [
      "2\n",
      "3\n",
      "2\n",
      "2\n",
      "2\n",
      "82\n",
      "2\n",
      "2\n",
      "2\n",
      "2\n",
      "2\n",
      "4\n",
      "4\n",
      "3\n",
      "59\n"
     ]
    }
   ],
   "source": [
    "for i in df4[cols_cat]:\n",
    "    print(len(df4[i].unique()))"
   ]
  },
  {
   "cell_type": "markdown",
   "id": "262c0421",
   "metadata": {
    "heading_collapsed": true,
    "hide_input": true
   },
   "source": [
    "## 4.1 Analise Bivariada"
   ]
  },
  {
   "cell_type": "markdown",
   "id": "3ede8d54",
   "metadata": {},
   "source": [
    "## **H1.** Deveriam ocorrer mais fraudes em transações de produtos H\n",
    "**FALSA** Fraudes acontecem mais em produtos H"
   ]
  },
  {
   "cell_type": "code",
   "execution_count": 278,
   "id": "ae60a00d",
   "metadata": {
    "ExecuteTime": {
     "end_time": "2022-01-27T18:23:01.599540Z",
     "start_time": "2022-01-27T18:23:00.814482Z"
    },
    "scrolled": false
   },
   "outputs": [
    {
     "data": {
      "image/png": "[encoded data removed]",
      "text/plain": [
       "<Figure size 1080x720 with 1 Axes>"
      ]
     },
     "metadata": {},
     "output_type": "display_data"
    }
   ],
   "source": [
    "aux1 = df4[['transaction_amt', 'product_cd']].groupby('product_cd').sum().reset_index()\n",
    "sns.barplot( x=df4['product_cd'], hue=df4['is_fraud'], y=df4['transaction_amt'], data=aux1 );"
   ]
  },
  {
   "cell_type": "markdown",
   "id": "aff811ba",
   "metadata": {},
   "source": [
    "## H2. Fraudes deveriam acontecer mais em cartão de débito.\n",
    "**FALSO** Fraudes acontecem mais em cartão de crédito."
   ]
  },
  {
   "cell_type": "code",
   "execution_count": 282,
   "id": "3b138f53",
   "metadata": {
    "ExecuteTime": {
     "end_time": "2022-01-27T18:25:17.144243Z",
     "start_time": "2022-01-27T18:25:16.435189Z"
    },
    "scrolled": false
   },
   "outputs": [
    {
     "data": {
      "image/png": "[encoded data removed]",
      "text/plain": [
       "<Figure size 1080x720 with 1 Axes>"
      ]
     },
     "metadata": {},
     "output_type": "display_data"
    }
   ],
   "source": [
    "sns.barplot( x=df4['card6'], hue=df4['is_fraud'], y=df4['transaction_amt']);"
   ]
  },
  {
   "cell_type": "markdown",
   "id": "1637bab6",
   "metadata": {},
   "source": [
    "## H3. Fraudes deveriam acontecer mais em cartão com bandeira Visa.\n",
    "**FALSO** Fraudes acontecem mais em cartão com bandeira Mastercard."
   ]
  },
  {
   "cell_type": "code",
   "execution_count": 284,
   "id": "45589953",
   "metadata": {
    "ExecuteTime": {
     "end_time": "2022-01-27T18:26:18.504861Z",
     "start_time": "2022-01-27T18:26:17.652797Z"
    },
    "scrolled": true
   },
   "outputs": [
    {
     "data": {
      "image/png": "[encoded data removed]",
      "text/plain": [
       "<Figure size 1080x720 with 1 Axes>"
      ]
     },
     "metadata": {},
     "output_type": "display_data"
    }
   ],
   "source": [
    "sns.barplot( x=df4['card4'], y=df4['transaction_amt'], hue=df4['is_fraud'] );"
   ]
  },
  {
   "cell_type": "markdown",
   "id": "bd685858",
   "metadata": {},
   "source": [
    "## H4. Fraudes devveriam acontecer mais em e-mails com dominio gmail.\n",
    "**FALSO** Fraudes acontecem mais em dominios @protonmail"
   ]
  },
  {
   "cell_type": "code",
   "execution_count": 288,
   "id": "00c89c47",
   "metadata": {
    "ExecuteTime": {
     "end_time": "2022-01-27T18:28:10.244771Z",
     "start_time": "2022-01-27T18:28:06.618498Z"
    },
    "scrolled": true
   },
   "outputs": [
    {
     "data": {
      "image/png": "[encoded data removed]",
      "text/plain": [
       "<Figure size 1080x720 with 1 Axes>"
      ]
     },
     "metadata": {},
     "output_type": "display_data"
    }
   ],
   "source": [
    "aux2 = df4[['is_fraud', 'p_emaildomain']].groupby('p_emaildomain').sum().reset_index()\n",
    "sns.barplot( x=df4['p_emaildomain'], y=df4['is_fraud'], data=aux1 );\n",
    "plt.xticks( rotation=90 );"
   ]
  },
  {
   "cell_type": "markdown",
   "id": "d08f15e8",
   "metadata": {},
   "source": [
    "## H5. Deveriam ocorrer mais fraudes em transações realizadas no periodo matutino\n",
    "**VERDADEIRA** Transações fraudulentas ocorrem mais no periodo matutino. "
   ]
  },
  {
   "cell_type": "code",
   "execution_count": 271,
   "id": "ef8dfce5",
   "metadata": {
    "ExecuteTime": {
     "end_time": "2022-01-27T18:19:34.293929Z",
     "start_time": "2022-01-27T18:19:30.281627Z"
    },
    "scrolled": true
   },
   "outputs": [
    {
     "data": {
      "image/png": "[encoded data removed]",
      "text/plain": [
       "<Figure size 1080x720 with 4 Axes>"
      ]
     },
     "metadata": {},
     "output_type": "display_data"
    }
   ],
   "source": [
    "plt.subplot(1, 3, 1)\n",
    "aux1 = df4[['is_fraud', 'hour']].groupby('hour').sum().reset_index()\n",
    "sns.barplot(x=df4['hour'], y=df4['is_fraud'], data=aux1);\n",
    "\n",
    "plt.subplot( 1, 3, 2 )\n",
    "sns.regplot( x=df4['hour'], y=df4['is_fraud'] );\n",
    "\n",
    "plt.subplot( 1, 3, 3 )\n",
    "sns.heatmap( aux1.corr( method='pearson' ), annot=True );"
   ]
  },
  {
   "cell_type": "markdown",
   "id": "4792219e",
   "metadata": {},
   "source": [
    "## H6. Deveriam ocorrer mais fraudes em transações realizadas durante a semana.\n",
    "**FALSO** Transações são mais fraudulentas aos finais de semana."
   ]
  },
  {
   "cell_type": "code",
   "execution_count": 265,
   "id": "07c0bb98",
   "metadata": {
    "ExecuteTime": {
     "end_time": "2022-01-27T18:13:06.786483Z",
     "start_time": "2022-01-27T18:13:03.494236Z"
    },
    "scrolled": true
   },
   "outputs": [
    {
     "data": {
      "image/png": "[encoded data removed]",
      "text/plain": [
       "<Figure size 1080x720 with 4 Axes>"
      ]
     },
     "metadata": {},
     "output_type": "display_data"
    }
   ],
   "source": [
    "aux1 = df4[['day_of_week', 'is_fraud']].groupby( 'day_of_week' ).sum().reset_index()\n",
    "\n",
    "plt.subplot( 1, 3, 1 )\n",
    "sns.barplot( x=df4['day_of_week'], y=df4['is_fraud'], data=aux1 );\n",
    "\n",
    "plt.subplot( 1, 3, 2 )\n",
    "sns.regplot( x=df4['day_of_week'], y=df4['is_fraud'], data=aux1 );\n",
    "\n",
    "plt.subplot( 1, 3, 3 )\n",
    "sns.heatmap( aux1.corr( method='pearson' ), annot=True );"
   ]
  },
  {
   "cell_type": "markdown",
   "id": "af1e09c6",
   "metadata": {},
   "source": [
    "## H7. Transações fraudulentas deveriam acontecer em compras de alto valor.\n",
    "**FALSA** Transações fraudulentas acontecem mais transações de maiores valores."
   ]
  },
  {
   "cell_type": "code",
   "execution_count": 449,
   "id": "086aed22",
   "metadata": {
    "ExecuteTime": {
     "end_time": "2022-01-27T19:56:00.336978Z",
     "start_time": "2022-01-27T19:55:59.079114Z"
    }
   },
   "outputs": [
    {
     "data": {
      "image/png": "[encoded data removed]",
      "text/plain": [
       "<Figure size 1440x720 with 4 Axes>"
      ]
     },
     "metadata": {},
     "output_type": "display_data"
    }
   ],
   "source": [
    "plt.figure(figsize = (20,10))\n",
    "plt.subplot(1,3,1)\n",
    "aux = df4[df4['is_fraud'] == 0]\n",
    "sns.distplot(aux['transaction_amt'])\n",
    "plt.title(\"Is not Fraud\", fontsize = 25)\n",
    "\n",
    "plt.subplot(1,3,2)\n",
    "aux1 = df4[df4['is_fraud'] == 1]\n",
    "sns.distplot(aux1['transaction_amt'], kde = True)\n",
    "plt.title(\"Is Fraud\", fontsize = 25)\n",
    "\n",
    "plt.subplot(1,3,3)\n",
    "aux2 = df4[['transaction_amt', 'is_fraud']].groupby( 'transaction_amt' ).sum().reset_index()\n",
    "sns.heatmap( aux2.corr( method='pearson' ), annot=True );"
   ]
  },
  {
   "cell_type": "markdown",
   "id": "ed4b1da0",
   "metadata": {},
   "source": [
    "## 4.2 Analise Multivariada"
   ]
  },
  {
   "cell_type": "markdown",
   "id": "18e64bb6",
   "metadata": {
    "heading_collapsed": true
   },
   "source": [
    "## 4.2.1 Numerical Attributes"
   ]
  },
  {
   "cell_type": "markdown",
   "id": "84c5940a",
   "metadata": {},
   "source": [
    "## 4.2.1 Categorical Attributes"
   ]
  },
  {
   "cell_type": "code",
   "execution_count": null,
   "id": "0472f75c",
   "metadata": {
    "ExecuteTime": {
     "end_time": "2022-01-27T14:43:04.371530Z",
     "start_time": "2022-01-27T14:43:00.260251Z"
    },
    "scrolled": false
   },
   "outputs": [],
   "source": [
    "df4_ = df4[cols_cat]\n",
    "\n",
    "rows= []\n",
    "\n",
    "for var1 in df4_:\n",
    "  col = []\n",
    "  for var2 in df4_ :\n",
    "    cramers =cramers_V(df4_[var1], df4_[var2]) # Cramer's V test\n",
    "    col.append(round(cramers,2)) # Keeping of the rounded value of the Cramer's V  \n",
    "  rows.append(col)\n",
    "  \n",
    "cramers_results = np.array(rows)\n",
    "df41 = pd.DataFrame(cramers_results, columns = df4_.columns, index =df4_.columns)\n",
    "\n",
    "# ploting \n",
    "mask = np.zeros_like(df41, dtype=np.bool)\n",
    "mask[np.triu_indices_from(mask)] = True\n",
    "\n",
    "with sns.axes_style(\"white\"):\n",
    "      ax = sns.heatmap(df41, mask=mask,vmin=0., vmax=1, square=True)\n",
    "\n",
    "plt.show()"
   ]
  },
  {
   "cell_type": "markdown",
   "id": "b344b575",
   "metadata": {},
   "source": [
    "## 4.4 Resumo das Hipoteses"
   ]
  },
  {
   "cell_type": "code",
   "execution_count": 451,
   "id": "e69a8810",
   "metadata": {
    "ExecuteTime": {
     "end_time": "2022-01-27T19:56:39.912262Z",
     "start_time": "2022-01-27T19:56:39.894261Z"
    }
   },
   "outputs": [
    {
     "name": "stdout",
     "output_type": "stream",
     "text": [
      "    Hipoteses    Conclusão    Relevância\n",
      "--  -----------  -----------  ------------\n",
      " 0  H1           Falsa        Baixa\n",
      " 1  H2           Falsa        Baixa\n",
      " 2  H3           Falsa        Baixa\n",
      " 3  H4           Falsa        Baixa\n",
      " 4  H5           Verdadeira   Média\n",
      " 5  H6           Falsa        Baixa\n",
      " 6  H7           Falsa        Média\n"
     ]
    }
   ],
   "source": [
    "headers = ['Hipoteses', 'Conclusão', 'Relevância']\n",
    "           \n",
    "tab =[['H1', 'Falsa', 'Baixa'],\n",
    "      ['H2', 'Falsa', 'Baixa'],\n",
    "      ['H3', 'Falsa', 'Baixa'],\n",
    "      ['H4', 'Falsa', 'Baixa'],\n",
    "      ['H5', 'Verdadeira', 'Média'],\n",
    "      ['H6', 'Falsa', 'Baixa'],\n",
    "      ['H7', 'Falsa', 'Média']]\n",
    "print( tabulate( tab, headers=headers, showindex=\"always\"))"
   ]
  },
  {
   "cell_type": "markdown",
   "id": "8c7a2c36",
   "metadata": {
    "heading_collapsed": true
   },
   "source": [
    "# 5.0 PREPARAÇÃO DOS DADOS"
   ]
  },
  {
   "cell_type": "code",
   "execution_count": null,
   "id": "5c760e4e",
   "metadata": {
    "ExecuteTime": {
     "end_time": "2022-01-27T14:43:04.513542Z",
     "start_time": "2022-01-27T14:43:04.388531Z"
    },
    "hidden": true
   },
   "outputs": [],
   "source": [
    "df5 = df4.copy()"
   ]
  },
  {
   "cell_type": "markdown",
   "id": "e9338b80",
   "metadata": {
    "hidden": true
   },
   "source": [
    "## 5.3 Transformação"
   ]
  },
  {
   "cell_type": "markdown",
   "id": "550ecfb5",
   "metadata": {
    "hidden": true
   },
   "source": [
    "\n",
    "## 5.3.1 Encoding"
   ]
  },
  {
   "cell_type": "code",
   "execution_count": null,
   "id": "8137eddb",
   "metadata": {
    "ExecuteTime": {
     "end_time": "2022-01-27T14:43:24.091723Z",
     "start_time": "2022-01-27T14:43:23.887305Z"
    },
    "hidden": true
   },
   "outputs": [],
   "source": [
    "le= LabelEncoder()\n",
    "df5[cols_cat] = df5[cols_cat].apply(le.fit_transform)\n",
    "pickle.dump(le, open('parameters/categorial_features_scaler.pkl', 'wb'))"
   ]
  },
  {
   "cell_type": "markdown",
   "id": "e604c5d2",
   "metadata": {
    "heading_collapsed": true
   },
   "source": [
    "# 6.0 FEATURE SELECTION"
   ]
  },
  {
   "cell_type": "code",
   "execution_count": null,
   "id": "f072543d",
   "metadata": {
    "ExecuteTime": {
     "end_time": "2022-01-27T16:20:25.592251Z",
     "start_time": "2022-01-27T16:20:25.561250Z"
    },
    "hidden": true
   },
   "outputs": [],
   "source": [
    "df6 = df5.copy()"
   ]
  },
  {
   "cell_type": "markdown",
   "id": "1ea0dea1",
   "metadata": {
    "hidden": true
   },
   "source": [
    "## 6.1 Split dataframe into train and test"
   ]
  },
  {
   "cell_type": "code",
   "execution_count": 400,
   "id": "60edd2c3",
   "metadata": {
    "ExecuteTime": {
     "end_time": "2022-01-27T19:28:10.636029Z",
     "start_time": "2022-01-27T19:28:10.613028Z"
    },
    "hidden": true
   },
   "outputs": [],
   "source": [
    "cols_selected = ['c1', 'id_02', 'transaction_id', 'c11', 'transaction_amt', 'c13',\n",
    "       'card1', 'card2', 'c6', 'c14', 'id_19', 'id_20', 'c2', 'id_31',\n",
    "       'c12', 'c4', 'c8', 'id_05', 'id_01', 'card5', 'p_emaildomain',\n",
    "       'c10', 'c7', 'id_06', 'product_cd', 'card3', 'id_17', 'card6',\n",
    "       'card4', 'device_type', 'd1', 'id_15', 'id_11', 'v113', 'id_28',\n",
    "       'id_16', 'id_37', 'id_29', 'id_38', 'v111', 'v109', 'id_35',\n",
    "       'id_12', 'v110', 'id_36', 'v101', 'v112', 'v96', 'v103', 'v95',\n",
    "       'v108', 'v102', 'v97', 'v106', 'v99', 'v115', 'v105', 'v104',\n",
    "       'v100', 'v114', 'v98', 'c3', 'v107', 'c9', 'c5']\n",
    "\n",
    "feat_add = ['is_fraud', 'transaction_dt']\n",
    "\n",
    "cols_selected.extend(feat_add)\n",
    "\n",
    "df6 = df6[cols_selected]"
   ]
  },
  {
   "cell_type": "code",
   "execution_count": 405,
   "id": "dec7f949",
   "metadata": {
    "ExecuteTime": {
     "end_time": "2022-01-27T19:28:54.660292Z",
     "start_time": "2022-01-27T19:28:54.612289Z"
    },
    "hidden": true
   },
   "outputs": [],
   "source": [
    "X = df6.drop(['is_fraud', 'transaction_dt'], axis = 1) \n",
    "y = df5['is_fraud']\n",
    "\n",
    "# split dataset into train, test\n",
    "X_train, X_test, y_train, y_test = train_test_split( X, y, test_size=0.30, random_state=42)"
   ]
  },
  {
   "cell_type": "markdown",
   "id": "9b0eb7d0",
   "metadata": {
    "hidden": true
   },
   "source": [
    "## 6.2 Boruta as Feature Selector"
   ]
  },
  {
   "cell_type": "code",
   "execution_count": 408,
   "id": "ea0a05e2",
   "metadata": {
    "ExecuteTime": {
     "end_time": "2022-01-27T19:29:00.539445Z",
     "start_time": "2022-01-27T19:29:00.534444Z"
    },
    "hidden": true,
    "scrolled": true
   },
   "outputs": [],
   "source": [
    "#training and test dataset for boruta\n",
    "#X_train_n = X_train.values\n",
    "#y_train_n = y_train.values.ravel()\n",
    "#\n",
    "#define RandomForestRegressor\n",
    "#rf = RandomForestClassifier(n_jobs = -1, random_state = 42)\n",
    "#\n",
    "#define boruta\n",
    "#boruta = BorutaPy(rf, n_estimators = 'auto', verbose = 2, random_state = 42).fit(X_train_n,y_train_n)"
   ]
  },
  {
   "cell_type": "code",
   "execution_count": 409,
   "id": "fc7b46b9",
   "metadata": {
    "ExecuteTime": {
     "end_time": "2022-01-27T19:29:00.715458Z",
     "start_time": "2022-01-27T19:29:00.700457Z"
    },
    "hidden": true
   },
   "outputs": [],
   "source": [
    "#best features from boruta\n",
    "#cols_selected = boruta.support_.tolist()\n",
    "#cols_selected_boruta = X_train.iloc[:, cols_selected].columns.to_list()\n",
    "#cols_selected_boruta"
   ]
  },
  {
   "cell_type": "markdown",
   "id": "dc56f6b7",
   "metadata": {
    "hidden": true
   },
   "source": [
    "## 6.3 Random Forest as Feature Selector"
   ]
  },
  {
   "cell_type": "code",
   "execution_count": 410,
   "id": "5234ac9c",
   "metadata": {
    "ExecuteTime": {
     "end_time": "2022-01-27T19:29:02.395054Z",
     "start_time": "2022-01-27T19:29:02.384054Z"
    },
    "hidden": true
   },
   "outputs": [],
   "source": [
    "# feature importances \n",
    "#rf = RandomForestClassifier(n_jobs = -1, random_state = 42 ).fit(X_train, y_train)\n",
    "#feat_importances = pd.Series(rf.feature_importances_, index=X_train.columns)\n",
    "# show 15 most importance features\n",
    "#feat_importances.head(16).sort_values().plot(kind='barh')\n",
    "#feat_importances[:65].sort_values(ascending=False)"
   ]
  },
  {
   "cell_type": "markdown",
   "id": "638b88b8",
   "metadata": {},
   "source": [
    "# 7.0 MACHINE LEARNING MODELLING"
   ]
  },
  {
   "cell_type": "markdown",
   "id": "8f076eb3",
   "metadata": {},
   "source": [
    "##  7.1 Baseline Tree Classifier"
   ]
  },
  {
   "cell_type": "code",
   "execution_count": 411,
   "id": "4f82c271",
   "metadata": {
    "ExecuteTime": {
     "end_time": "2022-01-27T19:29:04.129120Z",
     "start_time": "2022-01-27T19:29:03.523184Z"
    }
   },
   "outputs": [
    {
     "data": {
      "text/html": [
       "<div>\n",
       "<style scoped>\n",
       "    .dataframe tbody tr th:only-of-type {\n",
       "        vertical-align: middle;\n",
       "    }\n",
       "\n",
       "    .dataframe tbody tr th {\n",
       "        vertical-align: top;\n",
       "    }\n",
       "\n",
       "    .dataframe thead th {\n",
       "        text-align: right;\n",
       "    }\n",
       "</style>\n",
       "<table border=\"1\" class=\"dataframe\">\n",
       "  <thead>\n",
       "    <tr style=\"text-align: right;\">\n",
       "      <th></th>\n",
       "      <th>Model Name</th>\n",
       "      <th>Accuracy</th>\n",
       "      <th>Precision</th>\n",
       "      <th>F1 Score</th>\n",
       "      <th>Recall Score</th>\n",
       "    </tr>\n",
       "  </thead>\n",
       "  <tbody>\n",
       "    <tr>\n",
       "      <th>0</th>\n",
       "      <td>Decision Tree Classifier</td>\n",
       "      <td>0.972093</td>\n",
       "      <td>0.562633</td>\n",
       "      <td>0.604333</td>\n",
       "      <td>0.652709</td>\n",
       "    </tr>\n",
       "  </tbody>\n",
       "</table>\n",
       "</div>"
      ],
      "text/plain": [
       "                 Model Name  Accuracy  Precision  F1 Score  Recall Score\n",
       "0  Decision Tree Classifier  0.972093   0.562633  0.604333      0.652709"
      ]
     },
     "execution_count": 411,
     "metadata": {},
     "output_type": "execute_result"
    }
   ],
   "source": [
    "# model\n",
    "baseline = DecisionTreeClassifier(random_state = 42).fit(X_train, y_train)\n",
    "\n",
    "yhat_baseline = baseline.predict( X_test)\n",
    "\n",
    "# perfomance\n",
    "baseline_result = ml_error('Decision Tree Classifier', y_test, yhat_baseline)\n",
    "baseline_result"
   ]
  },
  {
   "cell_type": "markdown",
   "id": "ea908611",
   "metadata": {},
   "source": [
    "##  7.1.2 Baseline Tree Classifier - Cross Validation"
   ]
  },
  {
   "cell_type": "code",
   "execution_count": 412,
   "id": "0277105f",
   "metadata": {
    "ExecuteTime": {
     "end_time": "2022-01-27T19:29:09.997105Z",
     "start_time": "2022-01-27T19:29:07.759741Z"
    }
   },
   "outputs": [
    {
     "data": {
      "text/html": [
       "<div>\n",
       "<style scoped>\n",
       "    .dataframe tbody tr th:only-of-type {\n",
       "        vertical-align: middle;\n",
       "    }\n",
       "\n",
       "    .dataframe tbody tr th {\n",
       "        vertical-align: top;\n",
       "    }\n",
       "\n",
       "    .dataframe thead th {\n",
       "        text-align: right;\n",
       "    }\n",
       "</style>\n",
       "<table border=\"1\" class=\"dataframe\">\n",
       "  <thead>\n",
       "    <tr style=\"text-align: right;\">\n",
       "      <th></th>\n",
       "      <th>Model Name</th>\n",
       "      <th>Accuracy</th>\n",
       "      <th>Precision</th>\n",
       "      <th>F1-Measure</th>\n",
       "      <th>Recall</th>\n",
       "      <th>AUC-ROC</th>\n",
       "    </tr>\n",
       "  </thead>\n",
       "  <tbody>\n",
       "    <tr>\n",
       "      <th>0</th>\n",
       "      <td>Decision Tree Classifier</td>\n",
       "      <td>0.9673 +- 0.0025</td>\n",
       "      <td>0.5252 +- 0.0306</td>\n",
       "      <td>0.5519 +- 0.0381</td>\n",
       "      <td>0.582 +- 0.0494</td>\n",
       "      <td>0.7816 +- 0.0249</td>\n",
       "    </tr>\n",
       "  </tbody>\n",
       "</table>\n",
       "</div>"
      ],
      "text/plain": [
       "                 Model Name          Accuracy         Precision        F1-Measure           Recall           AUC-ROC\n",
       "0  Decision Tree Classifier  0.9673 +- 0.0025  0.5252 +- 0.0306  0.5519 +- 0.0381  0.582 +- 0.0494  0.7816 +- 0.0249"
      ]
     },
     "execution_count": 412,
     "metadata": {},
     "output_type": "execute_result"
    }
   ],
   "source": [
    "baseline_cv = cross_validation( 'Decision Tree Classifier', baseline, cv=5)\n",
    "baseline_cv"
   ]
  },
  {
   "cell_type": "markdown",
   "id": "b801336f",
   "metadata": {},
   "source": [
    "## 7.2 Random Forest Model"
   ]
  },
  {
   "cell_type": "code",
   "execution_count": 413,
   "id": "245318ff",
   "metadata": {
    "ExecuteTime": {
     "end_time": "2022-01-27T19:29:14.621801Z",
     "start_time": "2022-01-27T19:29:09.999100Z"
    }
   },
   "outputs": [
    {
     "data": {
      "text/html": [
       "<div>\n",
       "<style scoped>\n",
       "    .dataframe tbody tr th:only-of-type {\n",
       "        vertical-align: middle;\n",
       "    }\n",
       "\n",
       "    .dataframe tbody tr th {\n",
       "        vertical-align: top;\n",
       "    }\n",
       "\n",
       "    .dataframe thead th {\n",
       "        text-align: right;\n",
       "    }\n",
       "</style>\n",
       "<table border=\"1\" class=\"dataframe\">\n",
       "  <thead>\n",
       "    <tr style=\"text-align: right;\">\n",
       "      <th></th>\n",
       "      <th>Model Name</th>\n",
       "      <th>Accuracy</th>\n",
       "      <th>Precision</th>\n",
       "      <th>F1 Score</th>\n",
       "      <th>Recall Score</th>\n",
       "    </tr>\n",
       "  </thead>\n",
       "  <tbody>\n",
       "    <tr>\n",
       "      <th>0</th>\n",
       "      <td>Random Forest Classifier</td>\n",
       "      <td>0.984719</td>\n",
       "      <td>0.928571</td>\n",
       "      <td>0.711246</td>\n",
       "      <td>0.576355</td>\n",
       "    </tr>\n",
       "  </tbody>\n",
       "</table>\n",
       "</div>"
      ],
      "text/plain": [
       "                 Model Name  Accuracy  Precision  F1 Score  Recall Score\n",
       "0  Random Forest Classifier  0.984719   0.928571  0.711246      0.576355"
      ]
     },
     "execution_count": 413,
     "metadata": {},
     "output_type": "execute_result"
    }
   ],
   "source": [
    "# model\n",
    "rf = RandomForestClassifier(random_state=42).fit(X_train, y_train)\n",
    "\n",
    "yhat_rf = rf.predict( X_test)\n",
    "\n",
    "# perfomance\n",
    "rf_result = ml_error('Random Forest Classifier', y_test, yhat_rf)\n",
    "rf_result"
   ]
  },
  {
   "cell_type": "markdown",
   "id": "eda36a1f",
   "metadata": {},
   "source": [
    "## 7.2.1 Random Forest Model - Cross Validation"
   ]
  },
  {
   "cell_type": "code",
   "execution_count": 414,
   "id": "2a69becc",
   "metadata": {
    "ExecuteTime": {
     "end_time": "2022-01-27T19:29:32.177058Z",
     "start_time": "2022-01-27T19:29:14.622802Z"
    }
   },
   "outputs": [
    {
     "data": {
      "text/html": [
       "<div>\n",
       "<style scoped>\n",
       "    .dataframe tbody tr th:only-of-type {\n",
       "        vertical-align: middle;\n",
       "    }\n",
       "\n",
       "    .dataframe tbody tr th {\n",
       "        vertical-align: top;\n",
       "    }\n",
       "\n",
       "    .dataframe thead th {\n",
       "        text-align: right;\n",
       "    }\n",
       "</style>\n",
       "<table border=\"1\" class=\"dataframe\">\n",
       "  <thead>\n",
       "    <tr style=\"text-align: right;\">\n",
       "      <th></th>\n",
       "      <th>Model Name</th>\n",
       "      <th>Accuracy</th>\n",
       "      <th>Precision</th>\n",
       "      <th>F1-Measure</th>\n",
       "      <th>Recall</th>\n",
       "      <th>AUC-ROC</th>\n",
       "    </tr>\n",
       "  </thead>\n",
       "  <tbody>\n",
       "    <tr>\n",
       "      <th>0</th>\n",
       "      <td>Random Forest Classifier</td>\n",
       "      <td>0.9822 +- 0.0013</td>\n",
       "      <td>0.9521 +- 0.0252</td>\n",
       "      <td>0.6668 +- 0.0282</td>\n",
       "      <td>0.5135 +- 0.0292</td>\n",
       "      <td>0.937 +- 0.0151</td>\n",
       "    </tr>\n",
       "  </tbody>\n",
       "</table>\n",
       "</div>"
      ],
      "text/plain": [
       "                 Model Name          Accuracy         Precision        F1-Measure            Recall          AUC-ROC\n",
       "0  Random Forest Classifier  0.9822 +- 0.0013  0.9521 +- 0.0252  0.6668 +- 0.0282  0.5135 +- 0.0292  0.937 +- 0.0151"
      ]
     },
     "execution_count": 414,
     "metadata": {},
     "output_type": "execute_result"
    }
   ],
   "source": [
    "rf_cv = cross_validation( 'Random Forest Classifier', rf, cv=5)\n",
    "rf_cv"
   ]
  },
  {
   "cell_type": "markdown",
   "id": "37996bf2",
   "metadata": {},
   "source": [
    "## 7.3 XGB Classifier"
   ]
  },
  {
   "cell_type": "code",
   "execution_count": 415,
   "id": "99cfbb6a",
   "metadata": {
    "ExecuteTime": {
     "end_time": "2022-01-27T19:29:34.380414Z",
     "start_time": "2022-01-27T19:29:32.179060Z"
    }
   },
   "outputs": [
    {
     "name": "stdout",
     "output_type": "stream",
     "text": [
      "[16:29:32] WARNING: C:/Users/Administrator/workspace/xgboost-win64_release_1.5.1/src/learner.cc:1115: Starting in XGBoost 1.3.0, the default evaluation metric used with the objective 'binary:logistic' was changed from 'error' to 'logloss'. Explicitly set eval_metric if you'd like to restore the old behavior.\n"
     ]
    },
    {
     "data": {
      "text/html": [
       "<div>\n",
       "<style scoped>\n",
       "    .dataframe tbody tr th:only-of-type {\n",
       "        vertical-align: middle;\n",
       "    }\n",
       "\n",
       "    .dataframe tbody tr th {\n",
       "        vertical-align: top;\n",
       "    }\n",
       "\n",
       "    .dataframe thead th {\n",
       "        text-align: right;\n",
       "    }\n",
       "</style>\n",
       "<table border=\"1\" class=\"dataframe\">\n",
       "  <thead>\n",
       "    <tr style=\"text-align: right;\">\n",
       "      <th></th>\n",
       "      <th>Model Name</th>\n",
       "      <th>Accuracy</th>\n",
       "      <th>Precision</th>\n",
       "      <th>F1 Score</th>\n",
       "      <th>Recall Score</th>\n",
       "    </tr>\n",
       "  </thead>\n",
       "  <tbody>\n",
       "    <tr>\n",
       "      <th>0</th>\n",
       "      <td>XGBoost Classifier</td>\n",
       "      <td>0.986891</td>\n",
       "      <td>0.914676</td>\n",
       "      <td>0.76681</td>\n",
       "      <td>0.660099</td>\n",
       "    </tr>\n",
       "  </tbody>\n",
       "</table>\n",
       "</div>"
      ],
      "text/plain": [
       "           Model Name  Accuracy  Precision  F1 Score  Recall Score\n",
       "0  XGBoost Classifier  0.986891   0.914676   0.76681      0.660099"
      ]
     },
     "execution_count": 415,
     "metadata": {},
     "output_type": "execute_result"
    }
   ],
   "source": [
    "# model\n",
    "model_xgb = xgb.XGBClassifier(random_state=42, n_jobs=-1).fit(X_train, y_train)\n",
    "\n",
    "# prediction \n",
    "yhat_xgb = model_xgb.predict( X_test )\n",
    "\n",
    "# perfomance\n",
    "xgb_result = ml_error( 'XGBoost Classifier', y_test, yhat_xgb)\n",
    "xgb_result"
   ]
  },
  {
   "cell_type": "markdown",
   "id": "cbad07c7",
   "metadata": {},
   "source": [
    "## 7.3.1 XGB Classifier - Cross Validation"
   ]
  },
  {
   "cell_type": "code",
   "execution_count": 416,
   "id": "4219265e",
   "metadata": {
    "ExecuteTime": {
     "end_time": "2022-01-27T19:29:43.232616Z",
     "start_time": "2022-01-27T19:29:34.381415Z"
    }
   },
   "outputs": [
    {
     "name": "stdout",
     "output_type": "stream",
     "text": [
      "[16:29:34] WARNING: C:/Users/Administrator/workspace/xgboost-win64_release_1.5.1/src/learner.cc:1115: Starting in XGBoost 1.3.0, the default evaluation metric used with the objective 'binary:logistic' was changed from 'error' to 'logloss'. Explicitly set eval_metric if you'd like to restore the old behavior.\n",
      "[16:29:36] WARNING: C:/Users/Administrator/workspace/xgboost-win64_release_1.5.1/src/learner.cc:1115: Starting in XGBoost 1.3.0, the default evaluation metric used with the objective 'binary:logistic' was changed from 'error' to 'logloss'. Explicitly set eval_metric if you'd like to restore the old behavior.\n",
      "[16:29:38] WARNING: C:/Users/Administrator/workspace/xgboost-win64_release_1.5.1/src/learner.cc:1115: Starting in XGBoost 1.3.0, the default evaluation metric used with the objective 'binary:logistic' was changed from 'error' to 'logloss'. Explicitly set eval_metric if you'd like to restore the old behavior.\n",
      "[16:29:39] WARNING: C:/Users/Administrator/workspace/xgboost-win64_release_1.5.1/src/learner.cc:1115: Starting in XGBoost 1.3.0, the default evaluation metric used with the objective 'binary:logistic' was changed from 'error' to 'logloss'. Explicitly set eval_metric if you'd like to restore the old behavior.\n",
      "[16:29:41] WARNING: C:/Users/Administrator/workspace/xgboost-win64_release_1.5.1/src/learner.cc:1115: Starting in XGBoost 1.3.0, the default evaluation metric used with the objective 'binary:logistic' was changed from 'error' to 'logloss'. Explicitly set eval_metric if you'd like to restore the old behavior.\n"
     ]
    },
    {
     "data": {
      "text/html": [
       "<div>\n",
       "<style scoped>\n",
       "    .dataframe tbody tr th:only-of-type {\n",
       "        vertical-align: middle;\n",
       "    }\n",
       "\n",
       "    .dataframe tbody tr th {\n",
       "        vertical-align: top;\n",
       "    }\n",
       "\n",
       "    .dataframe thead th {\n",
       "        text-align: right;\n",
       "    }\n",
       "</style>\n",
       "<table border=\"1\" class=\"dataframe\">\n",
       "  <thead>\n",
       "    <tr style=\"text-align: right;\">\n",
       "      <th></th>\n",
       "      <th>Model Name</th>\n",
       "      <th>Accuracy</th>\n",
       "      <th>Precision</th>\n",
       "      <th>F1-Measure</th>\n",
       "      <th>Recall</th>\n",
       "      <th>AUC-ROC</th>\n",
       "    </tr>\n",
       "  </thead>\n",
       "  <tbody>\n",
       "    <tr>\n",
       "      <th>0</th>\n",
       "      <td>XGBoost Classifier</td>\n",
       "      <td>0.9846 +- 0.0017</td>\n",
       "      <td>0.9211 +- 0.0135</td>\n",
       "      <td>0.7325 +- 0.0348</td>\n",
       "      <td>0.6088 +- 0.0432</td>\n",
       "      <td>0.953 +- 0.0077</td>\n",
       "    </tr>\n",
       "  </tbody>\n",
       "</table>\n",
       "</div>"
      ],
      "text/plain": [
       "           Model Name          Accuracy         Precision        F1-Measure            Recall          AUC-ROC\n",
       "0  XGBoost Classifier  0.9846 +- 0.0017  0.9211 +- 0.0135  0.7325 +- 0.0348  0.6088 +- 0.0432  0.953 +- 0.0077"
      ]
     },
     "execution_count": 416,
     "metadata": {},
     "output_type": "execute_result"
    }
   ],
   "source": [
    "xgb_cv = cross_validation( 'XGBoost Classifier', model_xgb, cv=5)\n",
    "xgb_cv"
   ]
  },
  {
   "cell_type": "markdown",
   "id": "12a48210",
   "metadata": {},
   "source": [
    "##  7.4 LGBM Classifier"
   ]
  },
  {
   "cell_type": "code",
   "execution_count": 417,
   "id": "e22c868c",
   "metadata": {
    "ExecuteTime": {
     "end_time": "2022-01-27T19:29:43.632451Z",
     "start_time": "2022-01-27T19:29:43.233427Z"
    }
   },
   "outputs": [
    {
     "data": {
      "text/html": [
       "<div>\n",
       "<style scoped>\n",
       "    .dataframe tbody tr th:only-of-type {\n",
       "        vertical-align: middle;\n",
       "    }\n",
       "\n",
       "    .dataframe tbody tr th {\n",
       "        vertical-align: top;\n",
       "    }\n",
       "\n",
       "    .dataframe thead th {\n",
       "        text-align: right;\n",
       "    }\n",
       "</style>\n",
       "<table border=\"1\" class=\"dataframe\">\n",
       "  <thead>\n",
       "    <tr style=\"text-align: right;\">\n",
       "      <th></th>\n",
       "      <th>Model Name</th>\n",
       "      <th>Accuracy</th>\n",
       "      <th>Precision</th>\n",
       "      <th>F1 Score</th>\n",
       "      <th>Recall Score</th>\n",
       "    </tr>\n",
       "  </thead>\n",
       "  <tbody>\n",
       "    <tr>\n",
       "      <th>0</th>\n",
       "      <td>LGBM Classifier</td>\n",
       "      <td>0.985845</td>\n",
       "      <td>0.885906</td>\n",
       "      <td>0.75</td>\n",
       "      <td>0.650246</td>\n",
       "    </tr>\n",
       "  </tbody>\n",
       "</table>\n",
       "</div>"
      ],
      "text/plain": [
       "        Model Name  Accuracy  Precision  F1 Score  Recall Score\n",
       "0  LGBM Classifier  0.985845   0.885906      0.75      0.650246"
      ]
     },
     "execution_count": 417,
     "metadata": {},
     "output_type": "execute_result"
    }
   ],
   "source": [
    "# model\n",
    "lgbm = LGBMClassifier(random_state=42, n_jobs=-1).fit(X_train, y_train)\n",
    "\n",
    "# prediction \n",
    "yhat_lgbm = lgbm.predict( X_test )\n",
    "\n",
    "# perfomance\n",
    "lgbm_result = ml_error( 'LGBM Classifier', y_test, yhat_lgbm)\n",
    "lgbm_result"
   ]
  },
  {
   "cell_type": "markdown",
   "id": "fcd590f3",
   "metadata": {},
   "source": [
    "##  7.4.1 LGBM - Cross Validation"
   ]
  },
  {
   "cell_type": "code",
   "execution_count": 418,
   "id": "34207963",
   "metadata": {
    "ExecuteTime": {
     "end_time": "2022-01-27T19:29:45.282879Z",
     "start_time": "2022-01-27T19:29:43.633452Z"
    }
   },
   "outputs": [
    {
     "data": {
      "text/html": [
       "<div>\n",
       "<style scoped>\n",
       "    .dataframe tbody tr th:only-of-type {\n",
       "        vertical-align: middle;\n",
       "    }\n",
       "\n",
       "    .dataframe tbody tr th {\n",
       "        vertical-align: top;\n",
       "    }\n",
       "\n",
       "    .dataframe thead th {\n",
       "        text-align: right;\n",
       "    }\n",
       "</style>\n",
       "<table border=\"1\" class=\"dataframe\">\n",
       "  <thead>\n",
       "    <tr style=\"text-align: right;\">\n",
       "      <th></th>\n",
       "      <th>Model Name</th>\n",
       "      <th>Accuracy</th>\n",
       "      <th>Precision</th>\n",
       "      <th>F1-Measure</th>\n",
       "      <th>Recall</th>\n",
       "      <th>AUC-ROC</th>\n",
       "    </tr>\n",
       "  </thead>\n",
       "  <tbody>\n",
       "    <tr>\n",
       "      <th>0</th>\n",
       "      <td>LGBM Classifier</td>\n",
       "      <td>0.9836 +- 0.0015</td>\n",
       "      <td>0.9165 +- 0.0079</td>\n",
       "      <td>0.7089 +- 0.0325</td>\n",
       "      <td>0.579 +- 0.0426</td>\n",
       "      <td>0.9548 +- 0.0109</td>\n",
       "    </tr>\n",
       "  </tbody>\n",
       "</table>\n",
       "</div>"
      ],
      "text/plain": [
       "        Model Name          Accuracy         Precision        F1-Measure           Recall           AUC-ROC\n",
       "0  LGBM Classifier  0.9836 +- 0.0015  0.9165 +- 0.0079  0.7089 +- 0.0325  0.579 +- 0.0426  0.9548 +- 0.0109"
      ]
     },
     "execution_count": 418,
     "metadata": {},
     "output_type": "execute_result"
    }
   ],
   "source": [
    "lgbm_cv = cross_validation( 'LGBM Classifier', lgbm, cv=5)\n",
    "lgbm_cv"
   ]
  },
  {
   "cell_type": "markdown",
   "id": "ad181fa8",
   "metadata": {},
   "source": [
    "## 7.5 Compare Model's Perfomance"
   ]
  },
  {
   "cell_type": "markdown",
   "id": "cd90651a",
   "metadata": {},
   "source": [
    "## 7.5.1. Single Performance"
   ]
  },
  {
   "cell_type": "code",
   "execution_count": 419,
   "id": "b7fa0b2d",
   "metadata": {
    "ExecuteTime": {
     "end_time": "2022-01-27T19:30:02.920073Z",
     "start_time": "2022-01-27T19:30:02.896072Z"
    }
   },
   "outputs": [
    {
     "data": {
      "text/html": [
       "<div>\n",
       "<style scoped>\n",
       "    .dataframe tbody tr th:only-of-type {\n",
       "        vertical-align: middle;\n",
       "    }\n",
       "\n",
       "    .dataframe tbody tr th {\n",
       "        vertical-align: top;\n",
       "    }\n",
       "\n",
       "    .dataframe thead th {\n",
       "        text-align: right;\n",
       "    }\n",
       "</style>\n",
       "<table border=\"1\" class=\"dataframe\">\n",
       "  <thead>\n",
       "    <tr style=\"text-align: right;\">\n",
       "      <th></th>\n",
       "      <th>Model Name</th>\n",
       "      <th>Accuracy</th>\n",
       "      <th>Precision</th>\n",
       "      <th>F1 Score</th>\n",
       "      <th>Recall Score</th>\n",
       "    </tr>\n",
       "  </thead>\n",
       "  <tbody>\n",
       "    <tr>\n",
       "      <th>0</th>\n",
       "      <td>XGBoost Classifier</td>\n",
       "      <td>0.986891</td>\n",
       "      <td>0.914676</td>\n",
       "      <td>0.766810</td>\n",
       "      <td>0.660099</td>\n",
       "    </tr>\n",
       "    <tr>\n",
       "      <th>0</th>\n",
       "      <td>LGBM Classifier</td>\n",
       "      <td>0.985845</td>\n",
       "      <td>0.885906</td>\n",
       "      <td>0.750000</td>\n",
       "      <td>0.650246</td>\n",
       "    </tr>\n",
       "    <tr>\n",
       "      <th>0</th>\n",
       "      <td>Random Forest Classifier</td>\n",
       "      <td>0.984719</td>\n",
       "      <td>0.928571</td>\n",
       "      <td>0.711246</td>\n",
       "      <td>0.576355</td>\n",
       "    </tr>\n",
       "    <tr>\n",
       "      <th>0</th>\n",
       "      <td>Decision Tree Classifier</td>\n",
       "      <td>0.972093</td>\n",
       "      <td>0.562633</td>\n",
       "      <td>0.604333</td>\n",
       "      <td>0.652709</td>\n",
       "    </tr>\n",
       "  </tbody>\n",
       "</table>\n",
       "</div>"
      ],
      "text/plain": [
       "                 Model Name  Accuracy  Precision  F1 Score  Recall Score\n",
       "0        XGBoost Classifier  0.986891   0.914676  0.766810      0.660099\n",
       "0           LGBM Classifier  0.985845   0.885906  0.750000      0.650246\n",
       "0  Random Forest Classifier  0.984719   0.928571  0.711246      0.576355\n",
       "0  Decision Tree Classifier  0.972093   0.562633  0.604333      0.652709"
      ]
     },
     "execution_count": 419,
     "metadata": {},
     "output_type": "execute_result"
    }
   ],
   "source": [
    "modelling_result = pd.concat( [baseline_result, rf_result, xgb_result, lgbm_result] )\n",
    "modelling_result.sort_values( 'F1 Score', ascending=False)"
   ]
  },
  {
   "cell_type": "markdown",
   "id": "4412a114",
   "metadata": {},
   "source": [
    "##   7.5.2. Real Performance - Cross Validation"
   ]
  },
  {
   "cell_type": "code",
   "execution_count": 420,
   "id": "ffc089d4",
   "metadata": {
    "ExecuteTime": {
     "end_time": "2022-01-27T19:30:09.657933Z",
     "start_time": "2022-01-27T19:30:09.644932Z"
    },
    "scrolled": false
   },
   "outputs": [
    {
     "data": {
      "text/html": [
       "<div>\n",
       "<style scoped>\n",
       "    .dataframe tbody tr th:only-of-type {\n",
       "        vertical-align: middle;\n",
       "    }\n",
       "\n",
       "    .dataframe tbody tr th {\n",
       "        vertical-align: top;\n",
       "    }\n",
       "\n",
       "    .dataframe thead th {\n",
       "        text-align: right;\n",
       "    }\n",
       "</style>\n",
       "<table border=\"1\" class=\"dataframe\">\n",
       "  <thead>\n",
       "    <tr style=\"text-align: right;\">\n",
       "      <th></th>\n",
       "      <th>Model Name</th>\n",
       "      <th>Accuracy</th>\n",
       "      <th>Precision</th>\n",
       "      <th>F1-Measure</th>\n",
       "      <th>Recall</th>\n",
       "      <th>AUC-ROC</th>\n",
       "    </tr>\n",
       "  </thead>\n",
       "  <tbody>\n",
       "    <tr>\n",
       "      <th>0</th>\n",
       "      <td>LGBM Classifier</td>\n",
       "      <td>0.9836 +- 0.0015</td>\n",
       "      <td>0.9165 +- 0.0079</td>\n",
       "      <td>0.7089 +- 0.0325</td>\n",
       "      <td>0.579 +- 0.0426</td>\n",
       "      <td>0.9548 +- 0.0109</td>\n",
       "    </tr>\n",
       "    <tr>\n",
       "      <th>0</th>\n",
       "      <td>XGBoost Classifier</td>\n",
       "      <td>0.9846 +- 0.0017</td>\n",
       "      <td>0.9211 +- 0.0135</td>\n",
       "      <td>0.7325 +- 0.0348</td>\n",
       "      <td>0.6088 +- 0.0432</td>\n",
       "      <td>0.953 +- 0.0077</td>\n",
       "    </tr>\n",
       "    <tr>\n",
       "      <th>0</th>\n",
       "      <td>Random Forest Classifier</td>\n",
       "      <td>0.9822 +- 0.0013</td>\n",
       "      <td>0.9521 +- 0.0252</td>\n",
       "      <td>0.6668 +- 0.0282</td>\n",
       "      <td>0.5135 +- 0.0292</td>\n",
       "      <td>0.937 +- 0.0151</td>\n",
       "    </tr>\n",
       "    <tr>\n",
       "      <th>0</th>\n",
       "      <td>Decision Tree Classifier</td>\n",
       "      <td>0.9673 +- 0.0025</td>\n",
       "      <td>0.5252 +- 0.0306</td>\n",
       "      <td>0.5519 +- 0.0381</td>\n",
       "      <td>0.582 +- 0.0494</td>\n",
       "      <td>0.7816 +- 0.0249</td>\n",
       "    </tr>\n",
       "  </tbody>\n",
       "</table>\n",
       "</div>"
      ],
      "text/plain": [
       "                 Model Name          Accuracy         Precision        F1-Measure            Recall           AUC-ROC\n",
       "0           LGBM Classifier  0.9836 +- 0.0015  0.9165 +- 0.0079  0.7089 +- 0.0325   0.579 +- 0.0426  0.9548 +- 0.0109\n",
       "0        XGBoost Classifier  0.9846 +- 0.0017  0.9211 +- 0.0135  0.7325 +- 0.0348  0.6088 +- 0.0432   0.953 +- 0.0077\n",
       "0  Random Forest Classifier  0.9822 +- 0.0013  0.9521 +- 0.0252  0.6668 +- 0.0282  0.5135 +- 0.0292   0.937 +- 0.0151\n",
       "0  Decision Tree Classifier  0.9673 +- 0.0025  0.5252 +- 0.0306  0.5519 +- 0.0381   0.582 +- 0.0494  0.7816 +- 0.0249"
      ]
     },
     "execution_count": 420,
     "metadata": {},
     "output_type": "execute_result"
    }
   ],
   "source": [
    "modelling_result = pd.concat( [baseline_cv, rf_cv, xgb_cv, lgbm_cv] )\n",
    "modelling_result.sort_values( 'AUC-ROC', ascending=False)"
   ]
  },
  {
   "cell_type": "markdown",
   "id": "a42029b9",
   "metadata": {
    "heading_collapsed": true
   },
   "source": [
    "# 8.0 HYPERPARAMETER FINE TUNING"
   ]
  },
  {
   "cell_type": "markdown",
   "id": "9b0d1d48",
   "metadata": {
    "hidden": true
   },
   "source": [
    "## 8.1 Random Search "
   ]
  },
  {
   "cell_type": "code",
   "execution_count": 421,
   "id": "c099ee5c",
   "metadata": {
    "ExecuteTime": {
     "end_time": "2022-01-27T19:30:16.890499Z",
     "start_time": "2022-01-27T19:30:16.885498Z"
    },
    "hidden": true
   },
   "outputs": [],
   "source": [
    "#define model\n",
    "#model_lgbm = LGBMClassifier(n_jobs = -1, random_state = 42)\n",
    "\n",
    "#parameters\n",
    "#parameters = {'max_depth': np.arange(2, 12, 2), \n",
    "#         'num_leaves': 2 ** np.arange(2, 10, 2),\n",
    "#         'min_data_in_leaf': np.arange(100, 1050, 50), \n",
    "#         'learning_rate': np.linspace(0.001, 0.6, 15),\n",
    "#         'colsample_bytree': np.linspace(0.1, 1, 5),\n",
    "#         'subsample': np.linspace(0.25, 1, 15),\n",
    "#         'n_estimators': np.arange(10, 105, 15)}\n",
    "\n",
    "#define RandomSearchCV\n",
    "#lgbm_random_cv = RandomizedSearchCV(estimator=model_lgbm, param_distributions=parameters,\n",
    "#                                scoring='accuracy', n_iter=100, cv=5, verbose=2,\n",
    "#                                random_state=42, n_jobs=-1)\n",
    "\n",
    "#fit RandomSearchCV\n",
    "#lgbm_random_cv.fit(X_train, np.ravel(y_train))"
   ]
  },
  {
   "cell_type": "code",
   "execution_count": 422,
   "id": "b9c12219",
   "metadata": {
    "ExecuteTime": {
     "end_time": "2022-01-27T19:30:18.733261Z",
     "start_time": "2022-01-27T19:30:18.716260Z"
    },
    "hidden": true
   },
   "outputs": [
    {
     "data": {
      "text/plain": [
       "LGBMClassifier(learning_rate=0.17214285714285713, max_depth=10,\n",
       "               min_data_in_leaf=200, n_estimators=70, num_leaves=64,\n",
       "               random_state=42)"
      ]
     },
     "execution_count": 422,
     "metadata": {},
     "output_type": "execute_result"
    }
   ],
   "source": [
    "#get the best parameters to our model\n",
    "lgbm_random_cv.best_estimator_"
   ]
  },
  {
   "cell_type": "markdown",
   "id": "2a3f5ed9",
   "metadata": {
    "hidden": true
   },
   "source": [
    "## 8.2 Final Model"
   ]
  },
  {
   "cell_type": "code",
   "execution_count": 424,
   "id": "f321c150",
   "metadata": {
    "ExecuteTime": {
     "end_time": "2022-01-27T19:30:33.264316Z",
     "start_time": "2022-01-27T19:30:31.211740Z"
    },
    "hidden": true,
    "scrolled": false
   },
   "outputs": [
    {
     "name": "stdout",
     "output_type": "stream",
     "text": [
      "[LightGBM] [Warning] Unknown parameter: sparse_threshold\n",
      "[LightGBM] [Warning] Unknown parameter: is_dfing_metric\n",
      "[LightGBM] [Warning] num_threads is set with n_jobs=-1, num_thread=-1 will be ignored. Current value: num_threads=-1\n",
      "[LightGBM] [Warning] min_data_in_leaf is set=1, min_child_samples=20 will be ignored. Current value: min_data_in_leaf=1\n",
      "[LightGBM] [Warning] min_sum_hessian_in_leaf is set=100, min_child_weight=0.001 will be ignored. Current value: min_sum_hessian_in_leaf=100\n",
      "[LightGBM] [Warning] Unknown parameter: sparse_threshold\n",
      "[LightGBM] [Warning] Unknown parameter: is_dfing_metric\n",
      "[LightGBM] [Warning] num_threads is set with n_jobs=-1, num_thread=-1 will be ignored. Current value: num_threads=-1\n",
      "[LightGBM] [Warning] min_data_in_leaf is set=1, min_child_samples=20 will be ignored. Current value: min_data_in_leaf=1\n",
      "[LightGBM] [Warning] min_sum_hessian_in_leaf is set=100, min_child_weight=0.001 will be ignored. Current value: min_sum_hessian_in_leaf=100\n",
      "[LightGBM] [Info] Number of positive: 1007, number of negative: 28005\n",
      "[LightGBM] [Warning] Auto-choosing row-wise multi-threading, the overhead of testing was 0.003975 seconds.\n",
      "You can set `force_row_wise=true` to remove the overhead.\n",
      "And if memory is not enough, you can set `force_col_wise=true`.\n",
      "[LightGBM] [Info] Total Bins 1914\n",
      "[LightGBM] [Info] Number of data points in the train set: 29012, number of used features: 62\n",
      "[LightGBM] [Warning] No further splits with positive gain, best gain: -inf\n",
      "[LightGBM] [Warning] No further splits with positive gain, best gain: -inf\n",
      "[LightGBM] [Warning] No further splits with positive gain, best gain: -inf\n",
      "[LightGBM] [Warning] No further splits with positive gain, best gain: -inf\n",
      "[LightGBM] [Warning] No further splits with positive gain, best gain: -inf\n",
      "[LightGBM] [Warning] No further splits with positive gain, best gain: -inf\n",
      "[LightGBM] [Warning] No further splits with positive gain, best gain: -inf\n",
      "[LightGBM] [Warning] No further splits with positive gain, best gain: -inf\n",
      "[LightGBM] [Warning] No further splits with positive gain, best gain: -inf\n",
      "[LightGBM] [Warning] No further splits with positive gain, best gain: -inf\n",
      "[LightGBM] [Warning] No further splits with positive gain, best gain: -inf\n",
      "[LightGBM] [Warning] No further splits with positive gain, best gain: -inf\n",
      "[LightGBM] [Warning] No further splits with positive gain, best gain: -inf\n",
      "[LightGBM] [Warning] No further splits with positive gain, best gain: -inf\n",
      "[LightGBM] [Warning] No further splits with positive gain, best gain: -inf\n",
      "[LightGBM] [Warning] No further splits with positive gain, best gain: -inf\n",
      "[LightGBM] [Warning] No further splits with positive gain, best gain: -inf\n",
      "[LightGBM] [Warning] No further splits with positive gain, best gain: -inf\n",
      "[LightGBM] [Warning] No further splits with positive gain, best gain: -inf\n",
      "[LightGBM] [Warning] No further splits with positive gain, best gain: -inf\n",
      "[LightGBM] [Warning] No further splits with positive gain, best gain: -inf\n",
      "[LightGBM] [Warning] No further splits with positive gain, best gain: -inf\n",
      "[LightGBM] [Warning] No further splits with positive gain, best gain: -inf\n",
      "[LightGBM] [Warning] No further splits with positive gain, best gain: -inf\n",
      "[LightGBM] [Warning] No further splits with positive gain, best gain: -inf\n",
      "[LightGBM] [Warning] No further splits with positive gain, best gain: -inf\n",
      "[LightGBM] [Warning] No further splits with positive gain, best gain: -inf\n",
      "[LightGBM] [Warning] No further splits with positive gain, best gain: -inf\n",
      "[LightGBM] [Warning] No further splits with positive gain, best gain: -inf\n",
      "[LightGBM] [Warning] No further splits with positive gain, best gain: -inf\n",
      "[LightGBM] [Warning] No further splits with positive gain, best gain: -inf\n",
      "[LightGBM] [Warning] No further splits with positive gain, best gain: -inf\n",
      "[LightGBM] [Warning] No further splits with positive gain, best gain: -inf\n",
      "[LightGBM] [Warning] No further splits with positive gain, best gain: -inf\n",
      "[LightGBM] [Warning] No further splits with positive gain, best gain: -inf\n",
      "[LightGBM] [Warning] No further splits with positive gain, best gain: -inf\n",
      "[LightGBM] [Warning] No further splits with positive gain, best gain: -inf\n",
      "[LightGBM] [Warning] No further splits with positive gain, best gain: -inf\n",
      "[LightGBM] [Warning] No further splits with positive gain, best gain: -inf\n",
      "[LightGBM] [Warning] No further splits with positive gain, best gain: -inf\n",
      "[LightGBM] [Warning] No further splits with positive gain, best gain: -inf\n",
      "[LightGBM] [Warning] No further splits with positive gain, best gain: -inf\n",
      "[LightGBM] [Warning] No further splits with positive gain, best gain: -inf\n",
      "[LightGBM] [Warning] No further splits with positive gain, best gain: -inf\n",
      "[LightGBM] [Warning] No further splits with positive gain, best gain: -inf\n",
      "[LightGBM] [Warning] No further splits with positive gain, best gain: -inf\n",
      "[LightGBM] [Warning] No further splits with positive gain, best gain: -inf\n",
      "[LightGBM] [Warning] No further splits with positive gain, best gain: -inf\n",
      "[LightGBM] [Warning] No further splits with positive gain, best gain: -inf\n",
      "[LightGBM] [Warning] No further splits with positive gain, best gain: -inf\n",
      "[LightGBM] [Warning] No further splits with positive gain, best gain: -inf\n",
      "[LightGBM] [Warning] No further splits with positive gain, best gain: -inf\n",
      "[LightGBM] [Warning] No further splits with positive gain, best gain: -inf\n",
      "[LightGBM] [Warning] No further splits with positive gain, best gain: -inf\n",
      "[LightGBM] [Warning] No further splits with positive gain, best gain: -inf\n",
      "[LightGBM] [Warning] No further splits with positive gain, best gain: -inf\n",
      "[LightGBM] [Warning] No further splits with positive gain, best gain: -inf\n",
      "[LightGBM] [Warning] No further splits with positive gain, best gain: -inf\n",
      "[LightGBM] [Warning] No further splits with positive gain, best gain: -inf\n",
      "[LightGBM] [Warning] No further splits with positive gain, best gain: -inf\n",
      "[LightGBM] [Warning] No further splits with positive gain, best gain: -inf\n",
      "[LightGBM] [Warning] No further splits with positive gain, best gain: -inf\n",
      "[LightGBM] [Warning] No further splits with positive gain, best gain: -inf\n",
      "[LightGBM] [Warning] No further splits with positive gain, best gain: -inf\n",
      "[LightGBM] [Warning] No further splits with positive gain, best gain: -inf\n",
      "[LightGBM] [Warning] No further splits with positive gain, best gain: -inf\n",
      "[LightGBM] [Warning] No further splits with positive gain, best gain: -inf\n",
      "[LightGBM] [Warning] No further splits with positive gain, best gain: -inf\n",
      "[LightGBM] [Warning] No further splits with positive gain, best gain: -inf\n",
      "[LightGBM] [Warning] No further splits with positive gain, best gain: -inf\n",
      "[LightGBM] [Warning] No further splits with positive gain, best gain: -inf\n",
      "[LightGBM] [Warning] No further splits with positive gain, best gain: -inf\n",
      "[LightGBM] [Warning] No further splits with positive gain, best gain: -inf\n",
      "[LightGBM] [Warning] No further splits with positive gain, best gain: -inf\n",
      "[LightGBM] [Warning] No further splits with positive gain, best gain: -inf\n",
      "[LightGBM] [Warning] No further splits with positive gain, best gain: -inf\n",
      "[LightGBM] [Warning] No further splits with positive gain, best gain: -inf\n",
      "[LightGBM] [Warning] No further splits with positive gain, best gain: -inf\n",
      "[LightGBM] [Warning] No further splits with positive gain, best gain: -inf\n",
      "[LightGBM] [Warning] No further splits with positive gain, best gain: -inf\n",
      "[LightGBM] [Warning] No further splits with positive gain, best gain: -inf\n",
      "[LightGBM] [Warning] No further splits with positive gain, best gain: -inf\n",
      "[LightGBM] [Warning] No further splits with positive gain, best gain: -inf\n",
      "[LightGBM] [Warning] No further splits with positive gain, best gain: -inf\n",
      "[LightGBM] [Warning] No further splits with positive gain, best gain: -inf\n",
      "[LightGBM] [Warning] No further splits with positive gain, best gain: -inf\n",
      "[LightGBM] [Warning] No further splits with positive gain, best gain: -inf\n",
      "[LightGBM] [Warning] No further splits with positive gain, best gain: -inf\n",
      "[LightGBM] [Warning] No further splits with positive gain, best gain: -inf\n",
      "[LightGBM] [Warning] No further splits with positive gain, best gain: -inf\n",
      "[LightGBM] [Warning] No further splits with positive gain, best gain: -inf\n",
      "[LightGBM] [Warning] No further splits with positive gain, best gain: -inf\n",
      "[LightGBM] [Warning] No further splits with positive gain, best gain: -inf\n",
      "[LightGBM] [Warning] No further splits with positive gain, best gain: -inf\n",
      "[LightGBM] [Warning] No further splits with positive gain, best gain: -inf\n",
      "[LightGBM] [Warning] No further splits with positive gain, best gain: -inf\n",
      "[LightGBM] [Warning] No further splits with positive gain, best gain: -inf\n",
      "[LightGBM] [Warning] No further splits with positive gain, best gain: -inf\n",
      "[LightGBM] [Warning] No further splits with positive gain, best gain: -inf\n",
      "[LightGBM] [Warning] No further splits with positive gain, best gain: -inf\n",
      "[LightGBM] [Warning] No further splits with positive gain, best gain: -inf\n",
      "[LightGBM] [Warning] No further splits with positive gain, best gain: -inf\n",
      "[LightGBM] [Warning] No further splits with positive gain, best gain: -inf\n",
      "[LightGBM] [Warning] No further splits with positive gain, best gain: -inf\n",
      "[LightGBM] [Warning] No further splits with positive gain, best gain: -inf\n",
      "[LightGBM] [Warning] No further splits with positive gain, best gain: -inf\n",
      "[LightGBM] [Warning] No further splits with positive gain, best gain: -inf\n",
      "[LightGBM] [Warning] No further splits with positive gain, best gain: -inf\n",
      "[LightGBM] [Warning] No further splits with positive gain, best gain: -inf\n",
      "[LightGBM] [Warning] No further splits with positive gain, best gain: -inf\n",
      "[LightGBM] [Warning] No further splits with positive gain, best gain: -inf\n",
      "[LightGBM] [Warning] No further splits with positive gain, best gain: -inf\n",
      "[LightGBM] [Warning] No further splits with positive gain, best gain: -inf\n",
      "[LightGBM] [Warning] No further splits with positive gain, best gain: -inf\n",
      "[LightGBM] [Warning] No further splits with positive gain, best gain: -inf\n",
      "[LightGBM] [Warning] No further splits with positive gain, best gain: -inf\n",
      "[LightGBM] [Warning] No further splits with positive gain, best gain: -inf\n",
      "[LightGBM] [Warning] No further splits with positive gain, best gain: -inf\n"
     ]
    },
    {
     "name": "stdout",
     "output_type": "stream",
     "text": [
      "[LightGBM] [Warning] No further splits with positive gain, best gain: -inf\n",
      "[LightGBM] [Warning] No further splits with positive gain, best gain: -inf\n",
      "[LightGBM] [Warning] No further splits with positive gain, best gain: -inf\n",
      "[LightGBM] [Warning] No further splits with positive gain, best gain: -inf\n",
      "[LightGBM] [Warning] No further splits with positive gain, best gain: -inf\n",
      "[LightGBM] [Warning] No further splits with positive gain, best gain: -inf\n",
      "[LightGBM] [Warning] No further splits with positive gain, best gain: -inf\n",
      "[LightGBM] [Warning] No further splits with positive gain, best gain: -inf\n",
      "[LightGBM] [Warning] No further splits with positive gain, best gain: -inf\n",
      "[LightGBM] [Warning] No further splits with positive gain, best gain: -inf\n",
      "[LightGBM] [Warning] No further splits with positive gain, best gain: -inf\n",
      "[LightGBM] [Warning] No further splits with positive gain, best gain: -inf\n",
      "[LightGBM] [Warning] No further splits with positive gain, best gain: -inf\n",
      "[LightGBM] [Warning] No further splits with positive gain, best gain: -inf\n",
      "[LightGBM] [Warning] No further splits with positive gain, best gain: -inf\n",
      "[LightGBM] [Warning] No further splits with positive gain, best gain: -inf\n",
      "[LightGBM] [Warning] No further splits with positive gain, best gain: -inf\n",
      "[LightGBM] [Warning] No further splits with positive gain, best gain: -inf\n",
      "[LightGBM] [Warning] No further splits with positive gain, best gain: -inf\n",
      "[LightGBM] [Warning] No further splits with positive gain, best gain: -inf\n",
      "[LightGBM] [Warning] No further splits with positive gain, best gain: -inf\n",
      "[LightGBM] [Warning] No further splits with positive gain, best gain: -inf\n",
      "[LightGBM] [Warning] No further splits with positive gain, best gain: -inf\n",
      "[LightGBM] [Warning] No further splits with positive gain, best gain: -inf\n",
      "[LightGBM] [Warning] No further splits with positive gain, best gain: -inf\n",
      "[LightGBM] [Warning] No further splits with positive gain, best gain: -inf\n",
      "[LightGBM] [Warning] No further splits with positive gain, best gain: -inf\n",
      "[LightGBM] [Warning] No further splits with positive gain, best gain: -inf\n",
      "[LightGBM] [Warning] No further splits with positive gain, best gain: -inf\n",
      "[LightGBM] [Warning] No further splits with positive gain, best gain: -inf\n",
      "[LightGBM] [Warning] No further splits with positive gain, best gain: -inf\n",
      "[LightGBM] [Warning] No further splits with positive gain, best gain: -inf\n",
      "[LightGBM] [Warning] No further splits with positive gain, best gain: -inf\n",
      "[LightGBM] [Warning] No further splits with positive gain, best gain: -inf\n",
      "[LightGBM] [Warning] No further splits with positive gain, best gain: -inf\n",
      "[LightGBM] [Warning] No further splits with positive gain, best gain: -inf\n",
      "[LightGBM] [Warning] No further splits with positive gain, best gain: -inf\n",
      "[LightGBM] [Warning] No further splits with positive gain, best gain: -inf\n",
      "[LightGBM] [Warning] No further splits with positive gain, best gain: -inf\n",
      "[LightGBM] [Warning] No further splits with positive gain, best gain: -inf\n",
      "[LightGBM] [Warning] No further splits with positive gain, best gain: -inf\n",
      "[LightGBM] [Warning] No further splits with positive gain, best gain: -inf\n",
      "[LightGBM] [Warning] No further splits with positive gain, best gain: -inf\n",
      "[LightGBM] [Warning] No further splits with positive gain, best gain: -inf\n",
      "[LightGBM] [Warning] No further splits with positive gain, best gain: -inf\n",
      "[LightGBM] [Warning] No further splits with positive gain, best gain: -inf\n",
      "[LightGBM] [Warning] No further splits with positive gain, best gain: -inf\n",
      "[LightGBM] [Warning] No further splits with positive gain, best gain: -inf\n",
      "[LightGBM] [Warning] No further splits with positive gain, best gain: -inf\n",
      "[LightGBM] [Warning] No further splits with positive gain, best gain: -inf\n",
      "[LightGBM] [Warning] No further splits with positive gain, best gain: -inf\n",
      "[LightGBM] [Warning] No further splits with positive gain, best gain: -inf\n",
      "[LightGBM] [Warning] No further splits with positive gain, best gain: -inf\n",
      "[LightGBM] [Warning] No further splits with positive gain, best gain: -inf\n",
      "[LightGBM] [Warning] No further splits with positive gain, best gain: -inf\n",
      "[LightGBM] [Warning] No further splits with positive gain, best gain: -inf\n",
      "[LightGBM] [Warning] No further splits with positive gain, best gain: -inf\n",
      "[LightGBM] [Warning] No further splits with positive gain, best gain: -inf\n",
      "[LightGBM] [Warning] No further splits with positive gain, best gain: -inf\n",
      "[LightGBM] [Warning] No further splits with positive gain, best gain: -inf\n",
      "[LightGBM] [Warning] No further splits with positive gain, best gain: -inf\n",
      "[LightGBM] [Warning] No further splits with positive gain, best gain: -inf\n",
      "[LightGBM] [Warning] No further splits with positive gain, best gain: -inf\n",
      "[LightGBM] [Warning] No further splits with positive gain, best gain: -inf\n",
      "[LightGBM] [Warning] No further splits with positive gain, best gain: -inf\n",
      "[LightGBM] [Warning] No further splits with positive gain, best gain: -inf\n",
      "[LightGBM] [Warning] No further splits with positive gain, best gain: -inf\n",
      "[LightGBM] [Warning] No further splits with positive gain, best gain: -inf\n",
      "[LightGBM] [Warning] No further splits with positive gain, best gain: -inf\n",
      "[LightGBM] [Warning] No further splits with positive gain, best gain: -inf\n",
      "[LightGBM] [Warning] No further splits with positive gain, best gain: -inf\n",
      "[LightGBM] [Warning] No further splits with positive gain, best gain: -inf\n",
      "[LightGBM] [Warning] No further splits with positive gain, best gain: -inf\n",
      "[LightGBM] [Warning] No further splits with positive gain, best gain: -inf\n",
      "[LightGBM] [Warning] No further splits with positive gain, best gain: -inf\n",
      "[LightGBM] [Warning] No further splits with positive gain, best gain: -inf\n",
      "[LightGBM] [Warning] No further splits with positive gain, best gain: -inf\n",
      "[LightGBM] [Warning] No further splits with positive gain, best gain: -inf\n",
      "[LightGBM] [Warning] No further splits with positive gain, best gain: -inf\n",
      "[LightGBM] [Warning] No further splits with positive gain, best gain: -inf\n",
      "[LightGBM] [Warning] No further splits with positive gain, best gain: -inf\n",
      "[LightGBM] [Warning] No further splits with positive gain, best gain: -inf\n",
      "[LightGBM] [Warning] No further splits with positive gain, best gain: -inf\n",
      "[LightGBM] [Warning] No further splits with positive gain, best gain: -inf\n",
      "[LightGBM] [Warning] No further splits with positive gain, best gain: -inf\n",
      "[LightGBM] [Warning] No further splits with positive gain, best gain: -inf\n",
      "[LightGBM] [Warning] No further splits with positive gain, best gain: -inf\n",
      "[LightGBM] [Warning] No further splits with positive gain, best gain: -inf\n",
      "[LightGBM] [Warning] No further splits with positive gain, best gain: -inf\n",
      "[LightGBM] [Warning] No further splits with positive gain, best gain: -inf\n",
      "[LightGBM] [Warning] No further splits with positive gain, best gain: -inf\n",
      "[LightGBM] [Warning] No further splits with positive gain, best gain: -inf\n",
      "[LightGBM] [Warning] No further splits with positive gain, best gain: -inf\n",
      "[LightGBM] [Warning] No further splits with positive gain, best gain: -inf\n",
      "[LightGBM] [Warning] No further splits with positive gain, best gain: -inf\n",
      "[LightGBM] [Warning] No further splits with positive gain, best gain: -inf\n",
      "[LightGBM] [Warning] No further splits with positive gain, best gain: -inf\n",
      "[LightGBM] [Warning] No further splits with positive gain, best gain: -inf\n",
      "[LightGBM] [Warning] No further splits with positive gain, best gain: -inf\n",
      "[LightGBM] [Warning] No further splits with positive gain, best gain: -inf\n",
      "[LightGBM] [Warning] No further splits with positive gain, best gain: -inf\n",
      "[LightGBM] [Warning] No further splits with positive gain, best gain: -inf\n",
      "[LightGBM] [Warning] No further splits with positive gain, best gain: -inf\n",
      "[LightGBM] [Warning] No further splits with positive gain, best gain: -inf\n",
      "[LightGBM] [Warning] No further splits with positive gain, best gain: -inf\n",
      "[LightGBM] [Warning] No further splits with positive gain, best gain: -inf\n",
      "[LightGBM] [Warning] No further splits with positive gain, best gain: -inf\n",
      "[LightGBM] [Warning] No further splits with positive gain, best gain: -inf\n",
      "[LightGBM] [Warning] No further splits with positive gain, best gain: -inf\n",
      "[LightGBM] [Warning] No further splits with positive gain, best gain: -inf\n",
      "[LightGBM] [Warning] No further splits with positive gain, best gain: -inf\n",
      "[LightGBM] [Warning] No further splits with positive gain, best gain: -inf\n",
      "[LightGBM] [Warning] No further splits with positive gain, best gain: -inf\n",
      "[LightGBM] [Warning] No further splits with positive gain, best gain: -inf\n",
      "[LightGBM] [Warning] No further splits with positive gain, best gain: -inf\n",
      "[LightGBM] [Warning] No further splits with positive gain, best gain: -inf\n",
      "[LightGBM] [Warning] No further splits with positive gain, best gain: -inf\n",
      "[LightGBM] [Warning] No further splits with positive gain, best gain: -inf\n",
      "[LightGBM] [Warning] No further splits with positive gain, best gain: -inf\n",
      "[LightGBM] [Warning] No further splits with positive gain, best gain: -inf\n",
      "[LightGBM] [Warning] No further splits with positive gain, best gain: -inf\n",
      "[LightGBM] [Warning] No further splits with positive gain, best gain: -inf\n",
      "[LightGBM] [Warning] No further splits with positive gain, best gain: -inf\n",
      "[LightGBM] [Warning] No further splits with positive gain, best gain: -inf\n",
      "[LightGBM] [Warning] No further splits with positive gain, best gain: -inf\n",
      "[LightGBM] [Warning] No further splits with positive gain, best gain: -inf\n",
      "[LightGBM] [Warning] No further splits with positive gain, best gain: -inf\n",
      "[LightGBM] [Warning] No further splits with positive gain, best gain: -inf\n",
      "[LightGBM] [Warning] No further splits with positive gain, best gain: -inf\n",
      "[LightGBM] [Warning] No further splits with positive gain, best gain: -inf\n",
      "[LightGBM] [Warning] No further splits with positive gain, best gain: -inf\n",
      "[LightGBM] [Warning] No further splits with positive gain, best gain: -inf\n",
      "[LightGBM] [Warning] No further splits with positive gain, best gain: -inf\n",
      "[LightGBM] [Warning] No further splits with positive gain, best gain: -inf\n",
      "[LightGBM] [Warning] No further splits with positive gain, best gain: -inf\n",
      "[LightGBM] [Warning] No further splits with positive gain, best gain: -inf\n",
      "[LightGBM] [Warning] No further splits with positive gain, best gain: -inf\n",
      "[LightGBM] [Warning] No further splits with positive gain, best gain: -inf\n",
      "[LightGBM] [Warning] No further splits with positive gain, best gain: -inf\n",
      "[LightGBM] [Warning] No further splits with positive gain, best gain: -inf\n",
      "[LightGBM] [Warning] No further splits with positive gain, best gain: -inf\n",
      "[LightGBM] [Warning] No further splits with positive gain, best gain: -inf\n",
      "[LightGBM] [Warning] No further splits with positive gain, best gain: -inf\n",
      "[LightGBM] [Warning] No further splits with positive gain, best gain: -inf\n",
      "[LightGBM] [Warning] No further splits with positive gain, best gain: -inf\n",
      "[LightGBM] [Warning] No further splits with positive gain, best gain: -inf\n",
      "[LightGBM] [Warning] No further splits with positive gain, best gain: -inf\n",
      "[LightGBM] [Warning] No further splits with positive gain, best gain: -inf\n",
      "[LightGBM] [Warning] No further splits with positive gain, best gain: -inf\n",
      "[LightGBM] [Warning] No further splits with positive gain, best gain: -inf\n"
     ]
    },
    {
     "name": "stdout",
     "output_type": "stream",
     "text": [
      "[LightGBM] [Warning] No further splits with positive gain, best gain: -inf\n",
      "[LightGBM] [Warning] No further splits with positive gain, best gain: -inf\n",
      "[LightGBM] [Warning] No further splits with positive gain, best gain: -inf\n",
      "[LightGBM] [Warning] No further splits with positive gain, best gain: -inf\n",
      "[LightGBM] [Warning] No further splits with positive gain, best gain: -inf\n",
      "[LightGBM] [Warning] No further splits with positive gain, best gain: -inf\n",
      "[LightGBM] [Warning] No further splits with positive gain, best gain: -inf\n",
      "[LightGBM] [Warning] No further splits with positive gain, best gain: -inf\n",
      "[LightGBM] [Warning] No further splits with positive gain, best gain: -inf\n",
      "[LightGBM] [Warning] No further splits with positive gain, best gain: -inf\n",
      "[LightGBM] [Warning] No further splits with positive gain, best gain: -inf\n",
      "[LightGBM] [Warning] No further splits with positive gain, best gain: -inf\n",
      "[LightGBM] [Warning] No further splits with positive gain, best gain: -inf\n",
      "[LightGBM] [Warning] No further splits with positive gain, best gain: -inf\n",
      "[LightGBM] [Warning] No further splits with positive gain, best gain: -inf\n",
      "[LightGBM] [Warning] No further splits with positive gain, best gain: -inf\n",
      "[LightGBM] [Warning] No further splits with positive gain, best gain: -inf\n",
      "[LightGBM] [Warning] No further splits with positive gain, best gain: -inf\n",
      "[LightGBM] [Warning] No further splits with positive gain, best gain: -inf\n",
      "[LightGBM] [Warning] No further splits with positive gain, best gain: -inf\n",
      "[LightGBM] [Warning] No further splits with positive gain, best gain: -inf\n",
      "[LightGBM] [Warning] No further splits with positive gain, best gain: -inf\n",
      "[LightGBM] [Warning] No further splits with positive gain, best gain: -inf\n",
      "[LightGBM] [Warning] No further splits with positive gain, best gain: -inf\n",
      "[LightGBM] [Warning] No further splits with positive gain, best gain: -inf\n",
      "[LightGBM] [Warning] No further splits with positive gain, best gain: -inf\n",
      "[LightGBM] [Warning] No further splits with positive gain, best gain: -inf\n",
      "[LightGBM] [Warning] No further splits with positive gain, best gain: -inf\n",
      "[LightGBM] [Warning] No further splits with positive gain, best gain: -inf\n",
      "[LightGBM] [Warning] No further splits with positive gain, best gain: -inf\n",
      "[LightGBM] [Warning] No further splits with positive gain, best gain: -inf\n",
      "[LightGBM] [Warning] No further splits with positive gain, best gain: -inf\n",
      "[LightGBM] [Warning] No further splits with positive gain, best gain: -inf\n",
      "[LightGBM] [Warning] No further splits with positive gain, best gain: -inf\n",
      "[LightGBM] [Warning] No further splits with positive gain, best gain: -inf\n",
      "[LightGBM] [Warning] No further splits with positive gain, best gain: -inf\n",
      "[LightGBM] [Warning] No further splits with positive gain, best gain: -inf\n",
      "[LightGBM] [Warning] No further splits with positive gain, best gain: -inf\n",
      "[LightGBM] [Warning] No further splits with positive gain, best gain: -inf\n",
      "[LightGBM] [Warning] No further splits with positive gain, best gain: -inf\n",
      "[LightGBM] [Warning] No further splits with positive gain, best gain: -inf\n",
      "[LightGBM] [Warning] No further splits with positive gain, best gain: -inf\n",
      "[LightGBM] [Warning] No further splits with positive gain, best gain: -inf\n",
      "[LightGBM] [Warning] No further splits with positive gain, best gain: -inf\n",
      "[LightGBM] [Warning] No further splits with positive gain, best gain: -inf\n",
      "[LightGBM] [Warning] No further splits with positive gain, best gain: -inf\n",
      "[LightGBM] [Warning] No further splits with positive gain, best gain: -inf\n",
      "[LightGBM] [Warning] No further splits with positive gain, best gain: -inf\n",
      "[LightGBM] [Warning] No further splits with positive gain, best gain: -inf\n",
      "[LightGBM] [Warning] No further splits with positive gain, best gain: -inf\n",
      "[LightGBM] [Warning] No further splits with positive gain, best gain: -inf\n",
      "[LightGBM] [Warning] No further splits with positive gain, best gain: -inf\n",
      "[LightGBM] [Warning] No further splits with positive gain, best gain: -inf\n",
      "[LightGBM] [Warning] No further splits with positive gain, best gain: -inf\n",
      "[LightGBM] [Warning] No further splits with positive gain, best gain: -inf\n",
      "[LightGBM] [Warning] No further splits with positive gain, best gain: -inf\n",
      "[LightGBM] [Warning] No further splits with positive gain, best gain: -inf\n",
      "[LightGBM] [Warning] No further splits with positive gain, best gain: -inf\n",
      "[LightGBM] [Warning] No further splits with positive gain, best gain: -inf\n",
      "[LightGBM] [Warning] No further splits with positive gain, best gain: -inf\n",
      "[LightGBM] [Warning] No further splits with positive gain, best gain: -inf\n",
      "[LightGBM] [Warning] No further splits with positive gain, best gain: -inf\n",
      "[LightGBM] [Warning] No further splits with positive gain, best gain: -inf\n",
      "[LightGBM] [Warning] No further splits with positive gain, best gain: -inf\n",
      "[LightGBM] [Warning] No further splits with positive gain, best gain: -inf\n",
      "[LightGBM] [Warning] No further splits with positive gain, best gain: -inf\n",
      "[LightGBM] [Warning] No further splits with positive gain, best gain: -inf\n",
      "[LightGBM] [Warning] No further splits with positive gain, best gain: -inf\n",
      "[LightGBM] [Warning] No further splits with positive gain, best gain: -inf\n",
      "[LightGBM] [Warning] No further splits with positive gain, best gain: -inf\n",
      "[LightGBM] [Warning] No further splits with positive gain, best gain: -inf\n",
      "[LightGBM] [Warning] No further splits with positive gain, best gain: -inf\n",
      "[LightGBM] [Warning] No further splits with positive gain, best gain: -inf\n",
      "[LightGBM] [Warning] No further splits with positive gain, best gain: -inf\n",
      "[LightGBM] [Warning] No further splits with positive gain, best gain: -inf\n",
      "[LightGBM] [Warning] No further splits with positive gain, best gain: -inf\n",
      "[LightGBM] [Warning] No further splits with positive gain, best gain: -inf\n",
      "[LightGBM] [Warning] No further splits with positive gain, best gain: -inf\n",
      "[LightGBM] [Warning] No further splits with positive gain, best gain: -inf\n",
      "[LightGBM] [Warning] No further splits with positive gain, best gain: -inf\n",
      "[LightGBM] [Warning] No further splits with positive gain, best gain: -inf\n",
      "[LightGBM] [Warning] No further splits with positive gain, best gain: -inf\n",
      "[LightGBM] [Warning] No further splits with positive gain, best gain: -inf\n",
      "[LightGBM] [Warning] No further splits with positive gain, best gain: -inf\n",
      "[LightGBM] [Warning] No further splits with positive gain, best gain: -inf\n",
      "[LightGBM] [Warning] No further splits with positive gain, best gain: -inf\n",
      "[LightGBM] [Warning] No further splits with positive gain, best gain: -inf\n",
      "[LightGBM] [Warning] No further splits with positive gain, best gain: -inf\n",
      "[LightGBM] [Warning] No further splits with positive gain, best gain: -inf\n",
      "[LightGBM] [Warning] No further splits with positive gain, best gain: -inf\n",
      "[LightGBM] [Warning] No further splits with positive gain, best gain: -inf\n",
      "[LightGBM] [Warning] No further splits with positive gain, best gain: -inf\n",
      "[LightGBM] [Warning] No further splits with positive gain, best gain: -inf\n",
      "[LightGBM] [Warning] No further splits with positive gain, best gain: -inf\n",
      "[LightGBM] [Warning] No further splits with positive gain, best gain: -inf\n",
      "[LightGBM] [Warning] No further splits with positive gain, best gain: -inf\n",
      "[LightGBM] [Warning] No further splits with positive gain, best gain: -inf\n",
      "[LightGBM] [Warning] No further splits with positive gain, best gain: -inf\n",
      "[LightGBM] [Warning] No further splits with positive gain, best gain: -inf\n",
      "[LightGBM] [Warning] No further splits with positive gain, best gain: -inf\n",
      "[LightGBM] [Warning] No further splits with positive gain, best gain: -inf\n",
      "[LightGBM] [Warning] No further splits with positive gain, best gain: -inf\n",
      "[LightGBM] [Warning] No further splits with positive gain, best gain: -inf\n",
      "[LightGBM] [Warning] No further splits with positive gain, best gain: -inf\n",
      "[LightGBM] [Warning] No further splits with positive gain, best gain: -inf\n",
      "[LightGBM] [Warning] No further splits with positive gain, best gain: -inf\n",
      "[LightGBM] [Warning] No further splits with positive gain, best gain: -inf\n",
      "[LightGBM] [Warning] No further splits with positive gain, best gain: -inf\n",
      "[LightGBM] [Warning] No further splits with positive gain, best gain: -inf\n",
      "[LightGBM] [Warning] No further splits with positive gain, best gain: -inf\n",
      "[LightGBM] [Warning] No further splits with positive gain, best gain: -inf\n",
      "[LightGBM] [Warning] No further splits with positive gain, best gain: -inf\n",
      "[LightGBM] [Warning] No further splits with positive gain, best gain: -inf\n",
      "[LightGBM] [Warning] No further splits with positive gain, best gain: -inf\n",
      "[LightGBM] [Warning] No further splits with positive gain, best gain: -inf\n",
      "[LightGBM] [Warning] No further splits with positive gain, best gain: -inf\n",
      "[LightGBM] [Warning] No further splits with positive gain, best gain: -inf\n",
      "[LightGBM] [Warning] No further splits with positive gain, best gain: -inf\n",
      "[LightGBM] [Warning] No further splits with positive gain, best gain: -inf\n",
      "[LightGBM] [Warning] No further splits with positive gain, best gain: -inf\n",
      "[LightGBM] [Warning] No further splits with positive gain, best gain: -inf\n",
      "[LightGBM] [Warning] No further splits with positive gain, best gain: -inf\n",
      "[LightGBM] [Warning] No further splits with positive gain, best gain: -inf\n",
      "[LightGBM] [Warning] No further splits with positive gain, best gain: -inf\n",
      "[LightGBM] [Warning] No further splits with positive gain, best gain: -inf\n",
      "[LightGBM] [Warning] No further splits with positive gain, best gain: -inf\n",
      "[LightGBM] [Warning] No further splits with positive gain, best gain: -inf\n",
      "[LightGBM] [Warning] No further splits with positive gain, best gain: -inf\n",
      "[LightGBM] [Warning] No further splits with positive gain, best gain: -inf\n",
      "[LightGBM] [Warning] No further splits with positive gain, best gain: -inf\n",
      "[LightGBM] [Warning] No further splits with positive gain, best gain: -inf\n",
      "[LightGBM] [Warning] No further splits with positive gain, best gain: -inf\n",
      "[LightGBM] [Warning] No further splits with positive gain, best gain: -inf\n",
      "[LightGBM] [Warning] No further splits with positive gain, best gain: -inf\n",
      "[LightGBM] [Warning] No further splits with positive gain, best gain: -inf\n",
      "[LightGBM] [Warning] No further splits with positive gain, best gain: -inf\n",
      "[LightGBM] [Warning] No further splits with positive gain, best gain: -inf\n",
      "[LightGBM] [Warning] No further splits with positive gain, best gain: -inf\n",
      "[LightGBM] [Warning] No further splits with positive gain, best gain: -inf\n",
      "[LightGBM] [Warning] No further splits with positive gain, best gain: -inf\n",
      "[LightGBM] [Warning] No further splits with positive gain, best gain: -inf\n",
      "[LightGBM] [Warning] No further splits with positive gain, best gain: -inf\n",
      "[LightGBM] [Warning] No further splits with positive gain, best gain: -inf\n",
      "[LightGBM] [Warning] No further splits with positive gain, best gain: -inf\n",
      "[LightGBM] [Warning] No further splits with positive gain, best gain: -inf\n",
      "[LightGBM] [Warning] No further splits with positive gain, best gain: -inf\n",
      "[LightGBM] [Warning] No further splits with positive gain, best gain: -inf\n",
      "[LightGBM] [Warning] No further splits with positive gain, best gain: -inf\n",
      "[LightGBM] [Warning] No further splits with positive gain, best gain: -inf\n",
      "[LightGBM] [Warning] No further splits with positive gain, best gain: -inf\n",
      "[LightGBM] [Warning] No further splits with positive gain, best gain: -inf\n"
     ]
    },
    {
     "name": "stdout",
     "output_type": "stream",
     "text": [
      "[LightGBM] [Warning] No further splits with positive gain, best gain: -inf\n",
      "[LightGBM] [Warning] No further splits with positive gain, best gain: -inf\n",
      "[LightGBM] [Warning] No further splits with positive gain, best gain: -inf\n",
      "[LightGBM] [Warning] No further splits with positive gain, best gain: -inf\n",
      "[LightGBM] [Warning] No further splits with positive gain, best gain: -inf\n",
      "[LightGBM] [Warning] No further splits with positive gain, best gain: -inf\n",
      "[LightGBM] [Warning] No further splits with positive gain, best gain: -inf\n",
      "[LightGBM] [Warning] No further splits with positive gain, best gain: -inf\n",
      "[LightGBM] [Warning] No further splits with positive gain, best gain: -inf\n",
      "[LightGBM] [Warning] No further splits with positive gain, best gain: -inf\n",
      "[LightGBM] [Warning] No further splits with positive gain, best gain: -inf\n",
      "[LightGBM] [Warning] No further splits with positive gain, best gain: -inf\n",
      "[LightGBM] [Warning] No further splits with positive gain, best gain: -inf\n",
      "[LightGBM] [Warning] No further splits with positive gain, best gain: -inf\n",
      "[LightGBM] [Warning] No further splits with positive gain, best gain: -inf\n",
      "[LightGBM] [Warning] No further splits with positive gain, best gain: -inf\n",
      "[LightGBM] [Warning] No further splits with positive gain, best gain: -inf\n",
      "[LightGBM] [Warning] No further splits with positive gain, best gain: -inf\n",
      "[LightGBM] [Warning] No further splits with positive gain, best gain: -inf\n",
      "[LightGBM] [Warning] No further splits with positive gain, best gain: -inf\n",
      "[LightGBM] [Warning] No further splits with positive gain, best gain: -inf\n",
      "[LightGBM] [Warning] No further splits with positive gain, best gain: -inf\n",
      "[LightGBM] [Warning] No further splits with positive gain, best gain: -inf\n",
      "[LightGBM] [Warning] No further splits with positive gain, best gain: -inf\n",
      "[LightGBM] [Warning] No further splits with positive gain, best gain: -inf\n",
      "[LightGBM] [Warning] No further splits with positive gain, best gain: -inf\n",
      "[LightGBM] [Warning] No further splits with positive gain, best gain: -inf\n",
      "[LightGBM] [Warning] No further splits with positive gain, best gain: -inf\n",
      "[LightGBM] [Warning] No further splits with positive gain, best gain: -inf\n",
      "[LightGBM] [Warning] No further splits with positive gain, best gain: -inf\n",
      "[LightGBM] [Warning] No further splits with positive gain, best gain: -inf\n",
      "[LightGBM] [Warning] No further splits with positive gain, best gain: -inf\n",
      "[LightGBM] [Warning] No further splits with positive gain, best gain: -inf\n",
      "[LightGBM] [Warning] No further splits with positive gain, best gain: -inf\n",
      "[LightGBM] [Warning] No further splits with positive gain, best gain: -inf\n",
      "[LightGBM] [Warning] No further splits with positive gain, best gain: -inf\n",
      "[LightGBM] [Warning] No further splits with positive gain, best gain: -inf\n",
      "[LightGBM] [Warning] No further splits with positive gain, best gain: -inf\n",
      "[LightGBM] [Warning] No further splits with positive gain, best gain: -inf\n",
      "[LightGBM] [Warning] No further splits with positive gain, best gain: -inf\n",
      "[LightGBM] [Warning] No further splits with positive gain, best gain: -inf\n",
      "[LightGBM] [Warning] No further splits with positive gain, best gain: -inf\n",
      "[LightGBM] [Warning] No further splits with positive gain, best gain: -inf\n",
      "[LightGBM] [Warning] No further splits with positive gain, best gain: -inf\n",
      "[LightGBM] [Warning] No further splits with positive gain, best gain: -inf\n",
      "[LightGBM] [Warning] No further splits with positive gain, best gain: -inf\n",
      "[LightGBM] [Warning] No further splits with positive gain, best gain: -inf\n",
      "[LightGBM] [Warning] No further splits with positive gain, best gain: -inf\n",
      "[LightGBM] [Warning] No further splits with positive gain, best gain: -inf\n",
      "[LightGBM] [Warning] No further splits with positive gain, best gain: -inf\n",
      "[LightGBM] [Warning] No further splits with positive gain, best gain: -inf\n",
      "[LightGBM] [Warning] No further splits with positive gain, best gain: -inf\n",
      "[LightGBM] [Warning] No further splits with positive gain, best gain: -inf\n",
      "[LightGBM] [Warning] No further splits with positive gain, best gain: -inf\n",
      "[LightGBM] [Warning] No further splits with positive gain, best gain: -inf\n",
      "[LightGBM] [Warning] No further splits with positive gain, best gain: -inf\n",
      "[LightGBM] [Warning] No further splits with positive gain, best gain: -inf\n",
      "[LightGBM] [Warning] No further splits with positive gain, best gain: -inf\n",
      "[LightGBM] [Warning] No further splits with positive gain, best gain: -inf\n",
      "[LightGBM] [Warning] No further splits with positive gain, best gain: -inf\n",
      "[LightGBM] [Warning] No further splits with positive gain, best gain: -inf\n",
      "[LightGBM] [Warning] No further splits with positive gain, best gain: -inf\n",
      "[LightGBM] [Warning] No further splits with positive gain, best gain: -inf\n",
      "[LightGBM] [Warning] No further splits with positive gain, best gain: -inf\n",
      "[LightGBM] [Warning] No further splits with positive gain, best gain: -inf\n",
      "[LightGBM] [Warning] No further splits with positive gain, best gain: -inf\n",
      "[LightGBM] [Warning] No further splits with positive gain, best gain: -inf\n",
      "[LightGBM] [Warning] No further splits with positive gain, best gain: -inf\n",
      "[LightGBM] [Warning] No further splits with positive gain, best gain: -inf\n",
      "[LightGBM] [Warning] No further splits with positive gain, best gain: -inf\n",
      "[LightGBM] [Warning] No further splits with positive gain, best gain: -inf\n",
      "[LightGBM] [Warning] No further splits with positive gain, best gain: -inf\n",
      "[LightGBM] [Warning] No further splits with positive gain, best gain: -inf\n",
      "[LightGBM] [Warning] No further splits with positive gain, best gain: -inf\n",
      "[LightGBM] [Warning] No further splits with positive gain, best gain: -inf\n",
      "[LightGBM] [Warning] No further splits with positive gain, best gain: -inf\n",
      "[LightGBM] [Warning] No further splits with positive gain, best gain: -inf\n",
      "[LightGBM] [Warning] No further splits with positive gain, best gain: -inf\n",
      "[LightGBM] [Warning] No further splits with positive gain, best gain: -inf\n",
      "[LightGBM] [Warning] No further splits with positive gain, best gain: -inf\n",
      "[LightGBM] [Warning] No further splits with positive gain, best gain: -inf\n"
     ]
    },
    {
     "data": {
      "text/html": [
       "<div>\n",
       "<style scoped>\n",
       "    .dataframe tbody tr th:only-of-type {\n",
       "        vertical-align: middle;\n",
       "    }\n",
       "\n",
       "    .dataframe tbody tr th {\n",
       "        vertical-align: top;\n",
       "    }\n",
       "\n",
       "    .dataframe thead th {\n",
       "        text-align: right;\n",
       "    }\n",
       "</style>\n",
       "<table border=\"1\" class=\"dataframe\">\n",
       "  <thead>\n",
       "    <tr style=\"text-align: right;\">\n",
       "      <th></th>\n",
       "      <th>Model Name</th>\n",
       "      <th>Accuracy</th>\n",
       "      <th>Precision</th>\n",
       "      <th>F1 Score</th>\n",
       "      <th>Recall Score</th>\n",
       "    </tr>\n",
       "  </thead>\n",
       "  <tbody>\n",
       "    <tr>\n",
       "      <th>0</th>\n",
       "      <td>LGBM Classifier</td>\n",
       "      <td>0.938556</td>\n",
       "      <td>0.334566</td>\n",
       "      <td>0.486559</td>\n",
       "      <td>0.891626</td>\n",
       "    </tr>\n",
       "  </tbody>\n",
       "</table>\n",
       "</div>"
      ],
      "text/plain": [
       "        Model Name  Accuracy  Precision  F1 Score  Recall Score\n",
       "0  LGBM Classifier  0.938556   0.334566  0.486559      0.891626"
      ]
     },
     "execution_count": 424,
     "metadata": {},
     "output_type": "execute_result"
    }
   ],
   "source": [
    "# LGBMClassifier with GPU\n",
    "\n",
    "lgbm_tuned = LGBMClassifier(\n",
    "          max_bin = 63,\n",
    "          num_leaves = 255,\n",
    "          num_iterations = 500,\n",
    "          learning_rate = 0.01,\n",
    "          tree_learner = 'serial',\n",
    "          is_dfing_metric = False,\n",
    "          min_data_in_leaf = 1,\n",
    "          min_sum_hessian_in_leaf = 100,\n",
    "          sparse_threshold=1.0,\n",
    "          # device = 'gpu',\n",
    "          num_thread = -1,\n",
    "          save_binary= True,\n",
    "          seed= 42,\n",
    "          feature_fraction_seed = 42,\n",
    "          bagging_seed = 42,\n",
    "          drop_seed = 42,\n",
    "          data_random_seed = 42,\n",
    "          objective = 'binary',\n",
    "          boosting_type = 'gbdt',\n",
    "          verbose = 1,\n",
    "          metric = 'auc',\n",
    "          scale_pos_weight = 32,\n",
    "          boost_from_average = False).fit(X_train, y_train)\n",
    "\n",
    "yhat_lgbm_tuned = lgbm_tuned.predict( X_test )\n",
    "\n",
    "# perfomance\n",
    "lgbm_tuned_result = ml_error( 'LGBM Classifier', y_test, yhat_lgbm_tuned)\n",
    "lgbm_tuned_result"
   ]
  },
  {
   "cell_type": "markdown",
   "id": "c3431686",
   "metadata": {
    "heading_collapsed": true
   },
   "source": [
    "# 9.0 INTERPRETAÇÃO E TRADUÇÃO DO ERRO"
   ]
  },
  {
   "cell_type": "code",
   "execution_count": 425,
   "id": "2556e793",
   "metadata": {
    "ExecuteTime": {
     "end_time": "2022-01-27T19:30:41.068249Z",
     "start_time": "2022-01-27T19:30:41.064248Z"
    },
    "hidden": true
   },
   "outputs": [],
   "source": [
    "df9 = X_test"
   ]
  },
  {
   "cell_type": "code",
   "execution_count": 426,
   "id": "9fd06a0f",
   "metadata": {
    "ExecuteTime": {
     "end_time": "2022-01-27T19:30:41.500280Z",
     "start_time": "2022-01-27T19:30:41.486280Z"
    },
    "hidden": true
   },
   "outputs": [],
   "source": [
    "df9['is_fraud'] = y_test\n",
    "df9['predictions'] = yhat_lgbm_tuned"
   ]
  },
  {
   "cell_type": "markdown",
   "id": "1c7f7d39",
   "metadata": {
    "hidden": true
   },
   "source": [
    "##  9.1. Business Performance"
   ]
  },
  {
   "cell_type": "code",
   "execution_count": 427,
   "id": "40a2d316",
   "metadata": {
    "ExecuteTime": {
     "end_time": "2022-01-27T19:30:42.289260Z",
     "start_time": "2022-01-27T19:30:42.212255Z"
    },
    "hidden": true,
    "scrolled": false
   },
   "outputs": [
    {
     "data": {
      "text/html": [
       "<div>\n",
       "<style scoped>\n",
       "    .dataframe tbody tr th:only-of-type {\n",
       "        vertical-align: middle;\n",
       "    }\n",
       "\n",
       "    .dataframe tbody tr th {\n",
       "        vertical-align: top;\n",
       "    }\n",
       "\n",
       "    .dataframe thead th {\n",
       "        text-align: right;\n",
       "    }\n",
       "</style>\n",
       "<table border=\"1\" class=\"dataframe\">\n",
       "  <thead>\n",
       "    <tr style=\"text-align: right;\">\n",
       "      <th></th>\n",
       "      <th>Model Name</th>\n",
       "      <th>Total Fraud Amount</th>\n",
       "      <th>Total Fraud Amount Detected</th>\n",
       "      <th>Fraud Loss Saved (%)</th>\n",
       "      <th>Detection Rate (%)</th>\n",
       "      <th>AUROC Score</th>\n",
       "      <th>F1 Score</th>\n",
       "    </tr>\n",
       "  </thead>\n",
       "  <tbody>\n",
       "    <tr>\n",
       "      <th>0</th>\n",
       "      <td>LGBM (W/ Hyperparameters Adjusted)</td>\n",
       "      <td>39167.654</td>\n",
       "      <td>34643.091</td>\n",
       "      <td>88.45</td>\n",
       "      <td>89.162562</td>\n",
       "      <td>0.915883</td>\n",
       "      <td>0.486559</td>\n",
       "    </tr>\n",
       "    <tr>\n",
       "      <th>0</th>\n",
       "      <td>XGBoost Classifier</td>\n",
       "      <td>39167.654</td>\n",
       "      <td>27549.831</td>\n",
       "      <td>70.34</td>\n",
       "      <td>66.009852</td>\n",
       "      <td>0.829010</td>\n",
       "      <td>0.766810</td>\n",
       "    </tr>\n",
       "    <tr>\n",
       "      <th>0</th>\n",
       "      <td>Decision Tree Classifier</td>\n",
       "      <td>39167.654</td>\n",
       "      <td>25966.340</td>\n",
       "      <td>66.3</td>\n",
       "      <td>65.270936</td>\n",
       "      <td>0.817791</td>\n",
       "      <td>0.604333</td>\n",
       "    </tr>\n",
       "    <tr>\n",
       "      <th>0</th>\n",
       "      <td>Random Forest Tree</td>\n",
       "      <td>39167.654</td>\n",
       "      <td>23091.510</td>\n",
       "      <td>58.96</td>\n",
       "      <td>57.635468</td>\n",
       "      <td>0.787429</td>\n",
       "      <td>0.711246</td>\n",
       "    </tr>\n",
       "  </tbody>\n",
       "</table>\n",
       "</div>"
      ],
      "text/plain": [
       "                           Model Name  Total Fraud Amount  Total Fraud Amount Detected Fraud Loss Saved (%)  Detection Rate (%)  AUROC Score  F1 Score\n",
       "0  LGBM (W/ Hyperparameters Adjusted)           39167.654                    34643.091                88.45           89.162562     0.915883  0.486559\n",
       "0                  XGBoost Classifier           39167.654                    27549.831                70.34           66.009852     0.829010  0.766810\n",
       "0            Decision Tree Classifier           39167.654                    25966.340                 66.3           65.270936     0.817791  0.604333\n",
       "0                  Random Forest Tree           39167.654                    23091.510                58.96           57.635468     0.787429  0.711246"
      ]
     },
     "execution_count": 427,
     "metadata": {},
     "output_type": "execute_result"
    }
   ],
   "source": [
    "df = df9.copy()\n",
    "_1 = fraud_loss_saved(df, 'Decision Tree Classifier', baseline_result, yhat_baseline)\n",
    "_2 = fraud_loss_saved(df, 'Random Forest Tree', rf_result, yhat_rf)\n",
    "_3 = fraud_loss_saved(df, 'XGBoost Classifier', xgb_result, yhat_xgb)\n",
    "_4 = fraud_loss_saved(df, 'LGBM (W/ Hyperparameters Adjusted)', lgbm_tuned_result, yhat_lgbm_tuned)\n",
    "\n",
    "\n",
    "total_perfomance = pd.concat([_1, _2,_3,_4])\n",
    "total_perfomance.sort_values( ['AUROC Score'], ascending= False, inplace = True)\n",
    "total_perfomance"
   ]
  },
  {
   "cell_type": "markdown",
   "id": "12b57eb3",
   "metadata": {
    "hidden": true
   },
   "source": [
    "## 9.2 Machine Learning Perfomance  "
   ]
  },
  {
   "cell_type": "code",
   "execution_count": 428,
   "id": "d47a3ee2",
   "metadata": {
    "ExecuteTime": {
     "end_time": "2022-01-27T19:30:59.450408Z",
     "start_time": "2022-01-27T19:30:59.411406Z"
    },
    "hidden": true
   },
   "outputs": [
    {
     "ename": "ValueError",
     "evalue": "X has 67 features, but DecisionTreeClassifier is expecting 65 features as input.",
     "output_type": "error",
     "traceback": [
      "\u001b[1;31m---------------------------------------------------------------------------\u001b[0m",
      "\u001b[1;31mValueError\u001b[0m                                Traceback (most recent call last)",
      "\u001b[1;32m~\\AppData\\Local\\Temp/ipykernel_7356/169368043.py\u001b[0m in \u001b[0;36m<module>\u001b[1;34m\u001b[0m\n\u001b[0;32m      1\u001b[0m \u001b[1;31m#machine leraning model\u001b[0m\u001b[1;33m\u001b[0m\u001b[1;33m\u001b[0m\u001b[0m\n\u001b[1;32m----> 2\u001b[1;33m \u001b[0mbaseline_probs\u001b[0m \u001b[1;33m=\u001b[0m \u001b[0mbaseline\u001b[0m\u001b[1;33m.\u001b[0m\u001b[0mpredict_proba\u001b[0m\u001b[1;33m(\u001b[0m\u001b[0mX_test\u001b[0m\u001b[1;33m)\u001b[0m\u001b[1;33m\u001b[0m\u001b[1;33m\u001b[0m\u001b[0m\n\u001b[0m\u001b[0;32m      3\u001b[0m \u001b[0mlgbm_probs\u001b[0m \u001b[1;33m=\u001b[0m \u001b[0mlgbm\u001b[0m\u001b[1;33m.\u001b[0m\u001b[0mpredict_proba\u001b[0m\u001b[1;33m(\u001b[0m\u001b[0mX_test\u001b[0m\u001b[1;33m)\u001b[0m\u001b[1;33m\u001b[0m\u001b[1;33m\u001b[0m\u001b[0m\n\u001b[0;32m      4\u001b[0m \u001b[0mxgb_probs\u001b[0m \u001b[1;33m=\u001b[0m \u001b[0mmodel_xgb\u001b[0m\u001b[1;33m.\u001b[0m\u001b[0mpredict_proba\u001b[0m\u001b[1;33m(\u001b[0m\u001b[0mX_test\u001b[0m\u001b[1;33m)\u001b[0m\u001b[1;33m\u001b[0m\u001b[1;33m\u001b[0m\u001b[0m\n\u001b[0;32m      5\u001b[0m \u001b[0mrf_probs\u001b[0m \u001b[1;33m=\u001b[0m \u001b[0mrf\u001b[0m\u001b[1;33m.\u001b[0m\u001b[0mpredict_proba\u001b[0m\u001b[1;33m(\u001b[0m\u001b[0mX_test\u001b[0m\u001b[1;33m)\u001b[0m\u001b[1;33m\u001b[0m\u001b[1;33m\u001b[0m\u001b[0m\n",
      "\u001b[1;32m~\\anaconda3\\envs\\IeeCisFraudDetection\\lib\\site-packages\\sklearn\\tree\\_classes.py\u001b[0m in \u001b[0;36mpredict_proba\u001b[1;34m(self, X, check_input)\u001b[0m\n\u001b[0;32m    969\u001b[0m         \"\"\"\n\u001b[0;32m    970\u001b[0m         \u001b[0mcheck_is_fitted\u001b[0m\u001b[1;33m(\u001b[0m\u001b[0mself\u001b[0m\u001b[1;33m)\u001b[0m\u001b[1;33m\u001b[0m\u001b[1;33m\u001b[0m\u001b[0m\n\u001b[1;32m--> 971\u001b[1;33m         \u001b[0mX\u001b[0m \u001b[1;33m=\u001b[0m \u001b[0mself\u001b[0m\u001b[1;33m.\u001b[0m\u001b[0m_validate_X_predict\u001b[0m\u001b[1;33m(\u001b[0m\u001b[0mX\u001b[0m\u001b[1;33m,\u001b[0m \u001b[0mcheck_input\u001b[0m\u001b[1;33m)\u001b[0m\u001b[1;33m\u001b[0m\u001b[1;33m\u001b[0m\u001b[0m\n\u001b[0m\u001b[0;32m    972\u001b[0m         \u001b[0mproba\u001b[0m \u001b[1;33m=\u001b[0m \u001b[0mself\u001b[0m\u001b[1;33m.\u001b[0m\u001b[0mtree_\u001b[0m\u001b[1;33m.\u001b[0m\u001b[0mpredict\u001b[0m\u001b[1;33m(\u001b[0m\u001b[0mX\u001b[0m\u001b[1;33m)\u001b[0m\u001b[1;33m\u001b[0m\u001b[1;33m\u001b[0m\u001b[0m\n\u001b[0;32m    973\u001b[0m \u001b[1;33m\u001b[0m\u001b[0m\n",
      "\u001b[1;32m~\\anaconda3\\envs\\IeeCisFraudDetection\\lib\\site-packages\\sklearn\\tree\\_classes.py\u001b[0m in \u001b[0;36m_validate_X_predict\u001b[1;34m(self, X, check_input)\u001b[0m\n\u001b[0;32m    431\u001b[0m         \u001b[1;34m\"\"\"Validate the training data on predict (probabilities).\"\"\"\u001b[0m\u001b[1;33m\u001b[0m\u001b[1;33m\u001b[0m\u001b[0m\n\u001b[0;32m    432\u001b[0m         \u001b[1;32mif\u001b[0m \u001b[0mcheck_input\u001b[0m\u001b[1;33m:\u001b[0m\u001b[1;33m\u001b[0m\u001b[1;33m\u001b[0m\u001b[0m\n\u001b[1;32m--> 433\u001b[1;33m             \u001b[0mX\u001b[0m \u001b[1;33m=\u001b[0m \u001b[0mself\u001b[0m\u001b[1;33m.\u001b[0m\u001b[0m_validate_data\u001b[0m\u001b[1;33m(\u001b[0m\u001b[0mX\u001b[0m\u001b[1;33m,\u001b[0m \u001b[0mdtype\u001b[0m\u001b[1;33m=\u001b[0m\u001b[0mDTYPE\u001b[0m\u001b[1;33m,\u001b[0m \u001b[0maccept_sparse\u001b[0m\u001b[1;33m=\u001b[0m\u001b[1;34m\"csr\"\u001b[0m\u001b[1;33m,\u001b[0m \u001b[0mreset\u001b[0m\u001b[1;33m=\u001b[0m\u001b[1;32mFalse\u001b[0m\u001b[1;33m)\u001b[0m\u001b[1;33m\u001b[0m\u001b[1;33m\u001b[0m\u001b[0m\n\u001b[0m\u001b[0;32m    434\u001b[0m             if issparse(X) and (\n\u001b[0;32m    435\u001b[0m                 \u001b[0mX\u001b[0m\u001b[1;33m.\u001b[0m\u001b[0mindices\u001b[0m\u001b[1;33m.\u001b[0m\u001b[0mdtype\u001b[0m \u001b[1;33m!=\u001b[0m \u001b[0mnp\u001b[0m\u001b[1;33m.\u001b[0m\u001b[0mintc\u001b[0m \u001b[1;32mor\u001b[0m \u001b[0mX\u001b[0m\u001b[1;33m.\u001b[0m\u001b[0mindptr\u001b[0m\u001b[1;33m.\u001b[0m\u001b[0mdtype\u001b[0m \u001b[1;33m!=\u001b[0m \u001b[0mnp\u001b[0m\u001b[1;33m.\u001b[0m\u001b[0mintc\u001b[0m\u001b[1;33m\u001b[0m\u001b[1;33m\u001b[0m\u001b[0m\n",
      "\u001b[1;32m~\\anaconda3\\envs\\IeeCisFraudDetection\\lib\\site-packages\\sklearn\\base.py\u001b[0m in \u001b[0;36m_validate_data\u001b[1;34m(self, X, y, reset, validate_separately, **check_params)\u001b[0m\n\u001b[0;32m    583\u001b[0m \u001b[1;33m\u001b[0m\u001b[0m\n\u001b[0;32m    584\u001b[0m         \u001b[1;32mif\u001b[0m \u001b[1;32mnot\u001b[0m \u001b[0mno_val_X\u001b[0m \u001b[1;32mand\u001b[0m \u001b[0mcheck_params\u001b[0m\u001b[1;33m.\u001b[0m\u001b[0mget\u001b[0m\u001b[1;33m(\u001b[0m\u001b[1;34m\"ensure_2d\"\u001b[0m\u001b[1;33m,\u001b[0m \u001b[1;32mTrue\u001b[0m\u001b[1;33m)\u001b[0m\u001b[1;33m:\u001b[0m\u001b[1;33m\u001b[0m\u001b[1;33m\u001b[0m\u001b[0m\n\u001b[1;32m--> 585\u001b[1;33m             \u001b[0mself\u001b[0m\u001b[1;33m.\u001b[0m\u001b[0m_check_n_features\u001b[0m\u001b[1;33m(\u001b[0m\u001b[0mX\u001b[0m\u001b[1;33m,\u001b[0m \u001b[0mreset\u001b[0m\u001b[1;33m=\u001b[0m\u001b[0mreset\u001b[0m\u001b[1;33m)\u001b[0m\u001b[1;33m\u001b[0m\u001b[1;33m\u001b[0m\u001b[0m\n\u001b[0m\u001b[0;32m    586\u001b[0m \u001b[1;33m\u001b[0m\u001b[0m\n\u001b[0;32m    587\u001b[0m         \u001b[1;32mreturn\u001b[0m \u001b[0mout\u001b[0m\u001b[1;33m\u001b[0m\u001b[1;33m\u001b[0m\u001b[0m\n",
      "\u001b[1;32m~\\anaconda3\\envs\\IeeCisFraudDetection\\lib\\site-packages\\sklearn\\base.py\u001b[0m in \u001b[0;36m_check_n_features\u001b[1;34m(self, X, reset)\u001b[0m\n\u001b[0;32m    398\u001b[0m \u001b[1;33m\u001b[0m\u001b[0m\n\u001b[0;32m    399\u001b[0m         \u001b[1;32mif\u001b[0m \u001b[0mn_features\u001b[0m \u001b[1;33m!=\u001b[0m \u001b[0mself\u001b[0m\u001b[1;33m.\u001b[0m\u001b[0mn_features_in_\u001b[0m\u001b[1;33m:\u001b[0m\u001b[1;33m\u001b[0m\u001b[1;33m\u001b[0m\u001b[0m\n\u001b[1;32m--> 400\u001b[1;33m             raise ValueError(\n\u001b[0m\u001b[0;32m    401\u001b[0m                 \u001b[1;34mf\"X has {n_features} features, but {self.__class__.__name__} \"\u001b[0m\u001b[1;33m\u001b[0m\u001b[1;33m\u001b[0m\u001b[0m\n\u001b[0;32m    402\u001b[0m                 \u001b[1;34mf\"is expecting {self.n_features_in_} features as input.\"\u001b[0m\u001b[1;33m\u001b[0m\u001b[1;33m\u001b[0m\u001b[0m\n",
      "\u001b[1;31mValueError\u001b[0m: X has 67 features, but DecisionTreeClassifier is expecting 65 features as input."
     ]
    }
   ],
   "source": [
    "#machine leraning model\n",
    "baseline_probs = baseline.predict_proba(X_test)\n",
    "lgbm_probs = lgbm.predict_proba(X_test)\n",
    "xgb_probs = model_xgb.predict_proba(X_test)\n",
    "rf_probs = rf.predict_proba(X_test)\n",
    "\n",
    "\n",
    "# keep probabilities for the positive outcome only\n",
    "ns_probs = [0 for _ in range(len(y_test))]\n",
    "baseline_probs = baseline_probs[:, 1]\n",
    "lgbm_probs = lgbm_probs[:,1]\n",
    "xgb_probs = xgb_probs[:,1]\n",
    "rf_probs = rf_probs[:,1]\n",
    "\n",
    "# calculate scores\n",
    "ns_auc = roc_auc_score(y_test, ns_probs)\n",
    "baseline_auc = roc_auc_score(y_test, baseline_probs)\n",
    "lgbm_auc = roc_auc_score(y_test, lgbm_probs)\n",
    "xgb_auc = roc_auc_score(y_test, xgb_probs)\n",
    "rf_auc = roc_auc_score(y_test, rf_probs)\n",
    "\n",
    "# calculate roc curves\n",
    "ns_fpr, ns_tpr, _ = roc_curve(y_test, ns_probs)\n",
    "baseline_fpr, baseline_tpr, _ = roc_curve(y_test, baseline_probs)\n",
    "lgbm_fpr, lgbm_tpr, _ = roc_curve(y_test, lgbm_probs)\n",
    "xgb_fpr, xgb_tpr, _ = roc_curve(y_test, xgb_probs)\n",
    "rf_fpr, rf_tpr, _ = roc_curve(y_test, rf_probs)\n",
    "\n",
    "# summarize scores\n",
    "print('No Skill: ROC AUC=%.3f' % (ns_auc))\n",
    "print('Baseline: ROC AUC=%.3f' % (baseline_auc))\n",
    "print('RandomForestClassifier: ROC AUC=%.3f' % (rf_auc))\n",
    "print('XGBoostClassifier: ROC AUC=%.3f' % (xgb_auc))\n",
    "print('LGBM: ROC AUC=%.3f' % (lgbm_auc))\n",
    "\n",
    "plt.figure(figsize(15, 10))\n",
    "plt.plot(ns_fpr, ns_tpr, linestyle='--', label='No Skill')\n",
    "plt.plot(baseline_fpr, baseline_tpr, marker='.', label='Baseline Tree Classifier')\n",
    "plt.plot(lgbm_fpr, lgbm_tpr, marker='.', label='LGBM')\n",
    "plt.plot(xgb_fpr, xgb_tpr, marker='.', label='XGBoostClassifier')\n",
    "plt.plot(rf_fpr, rf_tpr, marker='.', label='RandomForestClassifier')\n",
    "plt.xlabel('False Positive Rate')\n",
    "plt.ylabel('True Positive Rate')\n",
    "plt.legend()\n",
    "plt.show()"
   ]
  },
  {
   "cell_type": "code",
   "execution_count": 429,
   "id": "1195925e",
   "metadata": {
    "ExecuteTime": {
     "end_time": "2022-01-27T19:30:59.897441Z",
     "start_time": "2022-01-27T19:30:59.717428Z"
    },
    "hidden": true,
    "scrolled": false
   },
   "outputs": [
    {
     "data": {
      "text/plain": [
       "<Figure size 1440x360 with 0 Axes>"
      ]
     },
     "metadata": {},
     "output_type": "display_data"
    },
    {
     "data": {
      "image/png": "[encoded data removed]",
      "text/plain": [
       "<Figure size 1440x360 with 2 Axes>"
      ]
     },
     "metadata": {},
     "output_type": "display_data"
    }
   ],
   "source": [
    "plt.figure(figsize(20, 5))\n",
    "mt.plot_confusion_matrix(y_test, yhat_lgbm_tuned, normalize = False);"
   ]
  },
  {
   "cell_type": "code",
   "execution_count": 430,
   "id": "4ffaf80d",
   "metadata": {
    "ExecuteTime": {
     "end_time": "2022-01-27T19:31:00.701686Z",
     "start_time": "2022-01-27T19:30:59.952445Z"
    },
    "hidden": true
   },
   "outputs": [
    {
     "data": {
      "text/plain": [
       "<Figure size 1080x720 with 0 Axes>"
      ]
     },
     "metadata": {},
     "output_type": "display_data"
    },
    {
     "data": {
      "image/png": "[encoded data removed]",
      "text/plain": [
       "<Figure size 1080x720 with 1 Axes>"
      ]
     },
     "metadata": {},
     "output_type": "display_data"
    }
   ],
   "source": [
    "plt.figure(figsize(15,10))\n",
    "plot_precision_recall_curve(lgbm_tuned, X_train, y_train);"
   ]
  },
  {
   "cell_type": "markdown",
   "id": "44b5d6f6",
   "metadata": {
    "heading_collapsed": true
   },
   "source": [
    "# 10.0 FUTURE WORKS"
   ]
  },
  {
   "cell_type": "markdown",
   "id": "41ca50eb",
   "metadata": {
    "hidden": true
   },
   "source": [
    "## 10.1 Deploy Model To Production"
   ]
  },
  {
   "cell_type": "code",
   "execution_count": null,
   "id": "399f345e",
   "metadata": {
    "ExecuteTime": {
     "end_time": "2022-01-27T15:33:29.196821Z",
     "start_time": "2022-01-27T15:33:29.178821Z"
    },
    "hidden": true
   },
   "outputs": [],
   "source": [
    "# Save Trained Model\n",
    "filename = 'model\\lgbmmodel.pkl'\n",
    "pickle.dump(lgbm_tuned_result, open(filename, 'wb'))"
   ]
  }
 ],
 "metadata": {
  "kernelspec": {
   "display_name": "Python 3 (ipykernel)",
   "language": "python",
   "name": "python3"
  },
  "language_info": {
   "codemirror_mode": {
    "name": "ipython",
    "version": 3
   },
   "file_extension": ".py",
   "mimetype": "text/x-python",
   "name": "python",
   "nbconvert_exporter": "python",
   "pygments_lexer": "ipython3",
   "version": "3.8.12"
  }
 },
 "nbformat": 4,
 "nbformat_minor": 5
}
